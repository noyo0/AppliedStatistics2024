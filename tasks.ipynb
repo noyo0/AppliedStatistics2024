{
 "cells": [
  {
   "cell_type": "markdown",
   "metadata": {},
   "source": [
    "# Task 1: Permutations and Combinations\n",
    "\n",
    "This task analyses the Lady Tasting Tea experiment using Python to calculate the probability of a person correctly guessing which cups had milk first under different scenarios, assuming no special powers. It explores probabilities for perfect guesses, at most one error, and evaluates the acceptance of two errors, with justifications provided in code and Markdown.\n",
    "\n",
    "#### Task description\n",
    "Suppose we alter the Lady Tasting Tea experiment to involve twelve cups of tea. Six have the milk in first and the other six having tea in first. A person claims they have the special power of being able to tell whether the tea or the milk went into a cup first upon tasting it. You agree to accept their claim if they can tell which of the six cups in your experiment had the milk in first.\n",
    "\n",
    "Calculate, using Python, the probability that they select the correct six cups. Here you should assume that they have no special powers in figuring it out, that they are just guessing. Remember to show and justify your workings in code and MarkDown cells.\n",
    "\n",
    "Suppose, now, you are willing to accept one error. Once they select the six cups they think had the milk in first, you will give them the benefit of the doubt should they have selected at least five of the correct cups. Calculate the probability, assuming they have no special powers, that the person makes at most one error.\n",
    "\n",
    "Would you accept two errors? Explain."
   ]
  },
  {
   "cell_type": "code",
   "execution_count": 21,
   "metadata": {},
   "outputs": [],
   "source": [
    "# Import dependencies ------\n",
    "# Mathematical functions from the standard library.\n",
    "# https://docs.python.org/3/library/math.html\n",
    "import math\n",
    "# Permutations and combinations.\n",
    "# https://docs.python.org/3/library/itertools.html\n",
    "import itertools\n",
    "# Random selections.\n",
    "# https://docs.python.org/3/library/random.html\n",
    "import random\n",
    "# Numerical structures and operations.\n",
    "# https://numpy.org/doc/stable/reference/index.html#reference\n",
    "import numpy as np\n",
    "# Plotting.\n",
    "# https://matplotlib.org/stable/contents.html\n",
    "import matplotlib.pyplot as plt"
   ]
  },
  {
   "cell_type": "code",
   "execution_count": 22,
   "metadata": {},
   "outputs": [],
   "source": [
    "# set variables ----------\n",
    "\n",
    "# Number of cups of tea in total.\n",
    "no_cups = 12 #k\n",
    "# Number of cups of tea with milk in first.\n",
    "no_cups_milk_first = 6 #n\n",
    "# Number of cups of tea with tea in first.\n",
    "no_cups_tea_first = 6 #n-k"
   ]
  },
  {
   "cell_type": "markdown",
   "metadata": {},
   "source": [
    "The total number of possible combinations is calculated with combination formula (binomial coefficient )or the number of ways to choose 𝑘 items from a set of 𝑛 items, where order does not matter:\n",
    ">$\\binom{n}{k} = \\frac{n!}{k!(n-k)!}$\n",
    "\n",
    "- 𝑛! is the factorial of 𝑛, the total number of items.\n",
    "- 𝑘! is the factorial of 𝑘, the number of items you're choosing.\n",
    "- (𝑛−𝑘)! is the factorial of the remaining items.\n"
   ]
  },
  {
   "cell_type": "code",
   "execution_count": 23,
   "metadata": {},
   "outputs": [
    {
     "data": {
      "text/plain": [
       "924.0"
      ]
     },
     "execution_count": 23,
     "metadata": {},
     "output_type": "execute_result"
    }
   ],
   "source": [
    "# evaluation the choose formula (ref: lecture notes)\n",
    "n,k = no_cups, no_cups_milk_first #assigning variables\n",
    "choose = math.factorial(n)/(math.factorial(k)*(math.factorial(n-k)))\n",
    "choose\n"
   ]
  },
  {
   "cell_type": "code",
   "execution_count": 24,
   "metadata": {},
   "outputs": [
    {
     "data": {
      "text/plain": [
       "924"
      ]
     },
     "execution_count": 24,
     "metadata": {},
     "output_type": "execute_result"
    }
   ],
   "source": [
    "# math.comb function does the same thing. (ref: lecture notes)\n",
    "ways = math.comb(no_cups, no_cups_milk_first)\n",
    "# Show.\n",
    "ways"
   ]
  },
  {
   "cell_type": "code",
   "execution_count": 25,
   "metadata": {},
   "outputs": [
    {
     "name": "stdout",
     "output_type": "stream",
     "text": [
      "teacup labels:  [0, 1, 2, 3, 4, 5, 6, 7, 8, 9, 10, 11]\n",
      "count combinations:  924\n"
     ]
    }
   ],
   "source": [
    "# we can show all possible combinations the 6 cups can be chosen\n",
    "    # with list(itertools.combinations()function) \n",
    "# (ref: lecture notes)\n",
    "\n",
    "# Create The cup labels.\n",
    "labels = list(range(n)) #create a list containing integers from 0 to 7 to represent the cups\n",
    "print(\"teacup labels: \", labels)\n",
    "# Show the different ways (combinations) of selecting no_cups_milk_first out of no_cups cups of tea.\n",
    "combinations = list(itertools.combinations(labels, k))\n",
    "# Show.\n",
    "combs=combinations\n",
    "print(\"count combinations: \",len(combs))\n",
    "#combs"
   ]
  },
  {
   "cell_type": "markdown",
   "metadata": {},
   "source": [
    "Now we have 3 different ways of proving that there are 924 possible combinations of chosing 6 items out of 12.\n",
    "$$\\binom{n}{k} = \\frac{n!}{k!(n-k)!} $$\n",
    "$$\\binom{12}{6} = \\frac{12!}{6!(12-6)!} = 924$$\n",
    "\n",
    "\n",
    "##### *Probability*\n",
    "In this case, choosing the 6 correct cups from 12 is a mutually exclusive scenario where the lady either gets it all right or not. There are 924 different ways to choose 6 cups from 12 and only 1 way to get it right when all 6 selected cups are milk-in-first cups. Therefore, she has a 1 in 924 (or 0.11%) chance of succeeding. \n",
    "$$ P= \\frac {1}{\\binom {n}{k}} = \\frac {1}{\\binom {12}{6}} = \\frac {1}{924} $$\n",
    "\n",
    "###### ref: combination formula: https://en.wikipedia.org/wiki/Combination<br>ref: binomial coefficient: https://en.wikipedia.org/wiki/Binomial_coefficient <br> ref: calculate probability, mutually exclusive: https://www.wikihow.com/Calculate-Probability"
   ]
  },
  {
   "cell_type": "code",
   "execution_count": 26,
   "metadata": {},
   "outputs": [
    {
     "name": "stdout",
     "output_type": "stream",
     "text": [
      "0.11%\n"
     ]
    }
   ],
   "source": [
    "# Percentage chance\n",
    "P = round((1/choose)*100,2)\n",
    "print(f\"{P}%\")"
   ]
  },
  {
   "cell_type": "markdown",
   "metadata": {},
   "source": [
    "The lady has a very low 0.11% chance to select the correct cups."
   ]
  },
  {
   "cell_type": "markdown",
   "metadata": {},
   "source": [
    "Now let's see what is the probability of success if we allow 1 error so we accept both 5 correct and 6 correct cups as successful trial.\n",
    "\n",
    "##### Using the combination formula $\\binom{n}{k} = \\frac{n!}{k!(n-k)!} $\n",
    "- Total number of combinations (6 cups of 12 cups in total): $\\binom{12}{6} = \\frac{12!}{6!(12-6)!} =924$ <br>\n",
    "- Total number of correct answers (6 cups of 6 milk-in-first cups): $\\binom{6}{6} = \\frac{6!}{6!(6-6)!} =1$ <br>\n",
    "\n",
    "- Total number of answers with 5 correct (5 correct of 6 correct): $\\binom{6}{5} = \\frac{6!}{5!(6-5)!} =6$ <br>\n",
    "- Total number of answers with 1 wrong (1 wrong of 6 wrong): $\\binom{6}{1} = \\frac{6!}{1!(6-1)!} =6$ <br>\n",
    ">Since every time the lady selects an incorrect cup, there are 6 ways to choose 5 correct cups, and there are 6 possible incorrect cups, the total number of combinations for selecting 1 incorrect cup along with 5 correct cups is $6×6=36$ and therefore the total number of combinations to pick the correct cups allowing for 1 error is $36+1=37$. ($+1$ being the number of possible combinaions for all correct cups selected.)"
   ]
  },
  {
   "cell_type": "code",
   "execution_count": 27,
   "metadata": {},
   "outputs": [
    {
     "name": "stdout",
     "output_type": "stream",
     "text": [
      "one error: 6 \n",
      "five correct: 6\n",
      "P(robability) = (AllCorrect + Correct5 * Error1) / Total\n",
      "P = (1 + 6 * 6) / 924\n",
      "P =37/924 = 4.0%\n"
     ]
    }
   ],
   "source": [
    "# create function to apply combination formula C=n!/k!x(n-k)! \n",
    "# this is doing the same as math.comb(n,k) but with visible anatomy.\n",
    "def combinations(n,k):\n",
    "    C= math.factorial(n)//(math.factorial(k)*(math.factorial(n-k)))\n",
    "    return(C)\n",
    "\n",
    "# Allowing for 1 error\n",
    "\n",
    "# number of possible combinationsinations using the combinationsination formula\n",
    "tot=combinations(12,6)\n",
    "# number of possible combinationsinations for correct answer\n",
    "correct=combinations(6,6) # this is 1\n",
    "# number of possible combinationsinations with 1 error (5 correct of 6 out of 12)\n",
    "correct5=combinations(6,5) # this is 6\n",
    "# number of possible combinationsinations with 1 error (1 incorrect of 6 out of 12)\n",
    "error1=combinations(6,1) # also 6\n",
    "\n",
    "print(\"one error:\",error1,\"\\nfive correct:\", correct5)\n",
    "print(f\"P(robability) = (AllCorrect + Correct5 * Error1) / Total\")\n",
    "print(f\"P = ({correct} + {correct5} * {error1}) / {tot}\")\n",
    "print(f\"P ={correct+(correct5*error1)}/{tot} = {round((correct+(correct5*error1))/tot*100,2)}%\")\n",
    "\n"
   ]
  },
  {
   "cell_type": "markdown",
   "metadata": {},
   "source": [
    "The lady has a 4% chance of choosing 5 or 6 correct cups with milk-in-first out of 12 cups which is still quite a low probability."
   ]
  },
  {
   "cell_type": "code",
   "execution_count": 28,
   "metadata": {},
   "outputs": [
    {
     "name": "stdout",
     "output_type": "stream",
     "text": [
      "two errors: 15 \n",
      "four correct: 15\n",
      "P = (AllCorrect + Correct5 * Error1 + Error2 * Correct4) / Total\n",
      "P = (1 + 6 * 6 + 15 * 15) / 924\n",
      "P=262/924 = 28.35%\n"
     ]
    }
   ],
   "source": [
    "\n",
    "# Allowing for 2 errors\n",
    "\n",
    "# number of possible combinationsinations with 1 error (4 correct of 6 out of 12)\n",
    "correct4=combinations(6,4)\n",
    "# number of possible combinationsinations with 1 error (2 incorrect of 6 out of 12)\n",
    "error2=combinations(6,2)\n",
    "\n",
    "#number of one-error combinations 37\n",
    "# number of 2 error combination is adding the combinations of 2 errors and 4 corrects to the \n",
    "# previously calcualted no error and one error combinations 1(no error)+36(1 error)+226(2 errors (15x15)=262\n",
    "\n",
    "print(\"two errors:\",error2,\"\\nfour correct:\", correct4)\n",
    "\n",
    "print(f\"P = (AllCorrect + Correct5 * Error1 + Error2 * Correct4) / Total\")\n",
    "print(f\"P = ({correct} + {correct5} * {error1} + {error2} * {correct4}) / {tot}\")\n",
    "print(f\"P={correct+(correct5*error1)+(error2*correct4)}/{tot} = {round((correct+(correct5*error1)+(error2*correct4))/tot*100,2)}%\")\n"
   ]
  },
  {
   "cell_type": "markdown",
   "metadata": {},
   "source": [
    "In conclusion, the lady has over 28% chance to select the cups with 2 errors allowed, 4% to select with 1 error and 0.11% to select all 6 cups correctly out of 12.\n",
    "<br>\n",
    "- *Null hypothesis (H₀):* The lady has no special power to tell the difference between cups of tea with milk in first and cups of tea with tea in first. The lady is selecting the six cups from the twelve cups at random.\n",
    "- *Alternative hypothesis (H₁):* The lady has a supernatural \"cup-with-milk-in-first\" sense.\n",
    "\n",
    "### Conclusion\n",
    "\n",
    "Your paragraph is clear and concise! Here’s a slightly polished version with minor adjustments for clarity and flow:\n",
    "\n",
    "If the lady is just guessing, it’s unlikely she will pick the correct six cups with milk first, with a chance of only 0.11%. This low probability suggests that a successful selection of the six cups (especially multiple times) indicates something non-random is occurring, supporting the alternative hypothesis. Allowing for one error increases the probability to 4%, which is still a very low likelihood and below the conventional 5% threshold. (This $𝑝=0.05$ level of probability was first introduced by Sir Ronald Fisher in his 1925 book, Statistical Methods for Research Workers (1) for establishing statistical significance.)\n",
    "<br>\n",
    "However, allowing for a second error raises the probability to over 28%, which exceeds the conventional threshold. With this, the lady has a high chance of about 1 in 4 of getting it right, making the experiment unsuitable for rejecting the null hypothesis as it is quite likely she may randomly select at least 4 correct cups.\n",
    "\n",
    "\n",
    "###### ref: Cowles, M. and Davis, C. (1982). On the origins of the .05 level of statistical significance. American Psychologist, 37(5), pp.553–558. doi:https://doi.org/10.1037//0003-066x.37.5.553."
   ]
  },
  {
   "cell_type": "markdown",
   "metadata": {},
   "source": [
    "# Task 2: numpy's Normal Distribution\n",
    "In this task you will assess whether numpy.random.normal() properly generates normal values. \n",
    ">To begin, generate a sample of one hundred thousand values using the function with mean 10.0 and standard deviation 3.0.\n",
    "<br>\n",
    "Use the scipy.stats.shapiro() function to test whether your sample came from a normal distribution. Explain the results and output.\n",
    "<br>\n",
    "Plot a histogram of your values and plot the corresponding normal distribution probability density function on top of it.\n"
   ]
  },
  {
   "cell_type": "code",
   "execution_count": 29,
   "metadata": {},
   "outputs": [],
   "source": [
    "# generate random sample with normal distibution \n",
    "# with mean 10.0 and standard deviation 3.0, size= 100k\n",
    "\n",
    "import numpy as np # for random function\n",
    "\n",
    "data = np.random.normal(10.0,3.0,100000)\n",
    "#data"
   ]
  },
  {
   "cell_type": "markdown",
   "metadata": {},
   "source": [
    "Test the data coming from a normal distribution or not with scipy.stats.shapiro() function which uses the Shapiro-Wilk Test to determine\n",
    ">The Shapiro-Wilk Test is a statistical test used to determine if a dataset is normally distributed. <br>\n",
    "The null hypothesis for this test is that the data follows a normal distribution. Therefore, if the p-value is less than the selected alpha level (typically < 0.05), the null hypothesis is rejected, indicating that the tested data are not normally distributed.\n",
    "###### Shapiro–Wilk test, Wikipedia, ref: https://en.wikipedia.org/wiki/Shapiro%E2%80%93Wilk_test"
   ]
  },
  {
   "cell_type": "code",
   "execution_count": 30,
   "metadata": {},
   "outputs": [
    {
     "name": "stderr",
     "output_type": "stream",
     "text": [
      "c:\\Users\\norbe\\anaconda3\\lib\\site-packages\\scipy\\stats\\_morestats.py:1882: UserWarning: p-value may not be accurate for N > 5000.\n",
      "  warnings.warn(\"p-value may not be accurate for N > 5000.\")\n"
     ]
    },
    {
     "data": {
      "text/plain": [
       "ShapiroResult(statistic=0.9999664425849915, pvalue=0.4718558192253113)"
      ]
     },
     "execution_count": 30,
     "metadata": {},
     "output_type": "execute_result"
    }
   ],
   "source": [
    "#Test data (data = np.random.normal(10.0,3.0,100000)) with a Saphiro-Wilk test\n",
    "import scipy.stats as stats\n",
    "stats.shapiro(data)"
   ]
  },
  {
   "cell_type": "markdown",
   "metadata": {},
   "source": [
    "The output of the Shapiro-Wilk test:\n",
    "- **Statistic:** If this value is close to 1, the data is likely normally distributed.\n",
    "- **P-value:** A p-value that is much greater than the common significance level (e.g., 0.05) indicates that there is no significant evidence to reject the null hypothesis, that is the data is *not* normally distributed.\n",
    "\n",
    "> the error message refers to the limitations of the Shapiro-Wilk test. (for N > 5000 the W test statistic is accurate but the p-value may not be [1].) This test is more appropriate for smaller sample sizes, other methods suchs as the Kolmogorov–Smirnov test may be better suited for large samples. Both tests null hypothesis states that data are taken from normal distributed population. [2] Another suitable replacement could be the Anderson-Darling test for normality [1].\n",
    "###### ref:<br>[1] scipy.stats.shapiro — SciPy v0.19.0 Reference Guide. (n.d.). https://docs.scipy.org/doc/scipy-0.19.0/reference/generated/scipy.stats.shapiro.html<br>[2] Mishra, P., Pandey, C. M., Singh, U., Gupta, A., Sahu, C., & Keshri, A. (2019). Descriptive statistics and normality tests for statistical data. Annals of Cardiac Anaesthesia, 22(1), 67. https://doi.org/10.4103/aca.aca_157_18"
   ]
  },
  {
   "cell_type": "markdown",
   "metadata": {},
   "source": [
    "### Visualisation\n",
    "If the numerical tests are not conclusive, we can visualise the data and asses normal distribution visually with histograms, QQ PLots or Box Plots for example. [1]\n",
    "\n",
    "#### Histogram\n",
    "In the case of a histgram, if the data is a normally distributed random data, a histogram would resemble a bell shape. [2]\n",
    "\n",
    "###### ref: <br>[1] Mishra, P., Pandey, C. M., Singh, U., Gupta, A., Sahu, C., & Keshri, A. (2019). Descriptive statistics and normality tests for statistical data. Annals of Cardiac Anaesthesia, 22(1), 67. https://doi.org/10.4103/aca.aca_157_18 <br> [2] Bobbitt, Z. (2021, August 14). How to Describe the Shape of Histograms (With Examples). Statology. https://www.statology.org/describe-shape-of-histogram/"
   ]
  },
  {
   "cell_type": "code",
   "execution_count": 31,
   "metadata": {},
   "outputs": [
    {
     "data": {
      "image/png": "[encoded data removed]",
      "text/plain": [
       "<Figure size 640x480 with 1 Axes>"
      ]
     },
     "metadata": {},
     "output_type": "display_data"
    }
   ],
   "source": [
    "# Visualise data (data = np.random.normal(10.0,3.0,100000)) with a histogram\n",
    "import matplotlib.pyplot as plt # for visualisation\n",
    "plt.hist(data, bins=100)\n",
    "plt.show()"
   ]
  },
  {
   "cell_type": "markdown",
   "metadata": {},
   "source": [
    "The histogram from our random sample shows a bell shape that indicates that the data is in a normal distribution.\n",
    "<br> We can furhter demonstrate this by drawing a normal distribution curve overlaying the histogram [1]\n",
    "\n",
    "###### ref: [1] GeeksforGeeks. (2024, August 5). How to Plot Normal Distribution over Histogram in Python? GeeksforGeeks. https://www.geeksforgeeks.org/how-to-plot-normal-distribution-over-histogram-in-python/"
   ]
  },
  {
   "cell_type": "code",
   "execution_count": 32,
   "metadata": {},
   "outputs": [
    {
     "data": {
      "image/png": "[encoded data removed]",
      "text/plain": [
       "<Figure size 640x480 with 1 Axes>"
      ]
     },
     "metadata": {},
     "output_type": "display_data"
    }
   ],
   "source": [
    "# adapted from lecture notes and geeksforgeeks.org (ref:https://www.geeksforgeeks.org/how-to-plot-normal-distribution-over-histogram-in-python/)\n",
    "import scipy.stats as stats #for Probability Density Function (PDF)\n",
    "# Fit a normal distribution to the random data ((data = np.random.normal(10.0,3.0,100000)):\n",
    "\n",
    "# Plot the histogram of the data with 100 bins, normalize the data (density=True) so it aligns with the curve\n",
    "plt.hist(data, bins=100, density=True,color='grey')\n",
    "\n",
    "# Generate values for the x axis, start from minimum to maximum values of the data\n",
    "x = np.linspace(data.min(), data.max(), 100)\n",
    "# Calculate the PDF of a normal distribution with the mean and standard deviation of the data\n",
    "p = stats.norm.pdf(x, data.mean(), data.std())\n",
    "\n",
    "plt.plot(x, p,\"r\") # plot the PDF curve\n",
    "title = \"Numpy random data and normal distribution curve\"\n",
    "plt.title(title)\n",
    "plt.show()"
   ]
  },
  {
   "cell_type": "markdown",
   "metadata": {},
   "source": [
    "#### Q-Q Plot\n",
    "\n",
    "Another possible visual test of normality is the QQ Plot. A QQ plot visually assesses if data follows a normal distribution by comparing quantiles of the data against a theoretical normal distribution. If the points forming a line that's roughly straight, it means both sets of quantiles came from the same distribution indicating that the data is likely normal. [1]\n",
    "\n",
    "###### [1]: Ford, C. (2015). Understanding QQ Plots | UVA Library. [online] library.virginia.edu. Available at: https://library.virginia.edu/data/articles/understanding-q-q-plots.<br> [2]: docs.scipy.org. (n.d.). scipy.stats.probplot — SciPy v1.6.3 Reference Guide. [online] Available at: https://docs.scipy.org/doc/scipy/reference/generated/scipy.stats.probplot.html.\n",
    "\n",
    "‌"
   ]
  },
  {
   "cell_type": "code",
   "execution_count": 33,
   "metadata": {},
   "outputs": [
    {
     "data": {
      "image/png": "[encoded data removed]",
      "text/plain": [
       "<Figure size 640x480 with 1 Axes>"
      ]
     },
     "metadata": {},
     "output_type": "display_data"
    }
   ],
   "source": [
    "# QQ Plot\n",
    "import scipy.stats as stats # import module for QQ plot\n",
    "\n",
    "stats.probplot(data, dist=\"norm\", plot=plt)\n",
    "plt.title(\"Q-Q Plot - Probability Plot\")\n",
    "plt.show()"
   ]
  },
  {
   "cell_type": "markdown",
   "metadata": {},
   "source": [
    "Both the histogram and the Q-Q plot indicated that data generated with numpy (data = np.random.normal(10.0,3.0,100000)) follows a normal distribution."
   ]
  },
  {
   "cell_type": "markdown",
   "metadata": {},
   "source": [
    "# Task 3: t-Test Calculation\n",
    "\n",
    "Consider the following dataset containing resting heart rates for patients before and after embarking on a two-week exercise program.\n",
    "\n",
    "Patient ID\t0\t1\t2\t3\t4\t5\t6\t7\t8\t9 <br>\n",
    "Before\t63\t68\t70\t64\t74\t67\t70\t57\t66\t65<br>\n",
    "After\t64\t64\t68\t64\t73\t70\t72\t54\t61\t63<br>\n",
    "Calculate the t-statistic based on this data set, using Python. Compare it to the value given by scipy.stats. Explain your work and list any sources used."
   ]
  },
  {
   "cell_type": "code",
   "execution_count": 34,
   "metadata": {},
   "outputs": [
    {
     "name": "stdout",
     "output_type": "stream",
     "text": [
      "Shapiro-Wilk test of normal distreibution:\n",
      "Before: ShapiroResult(statistic=0.9726138710975647, pvalue=0.9139653444290161)\n",
      "After: ShapiroResult(statistic=0.9397047758102417, pvalue=0.5497328639030457)\n"
     ]
    }
   ],
   "source": [
    "# Record data from task brief\n",
    "\n",
    "import numpy as np # numpy for array operations\n",
    "\n",
    "# recording data from task brief\n",
    "before = np.array([63, 68, 70, 64, 74, 67, 70, 57, 66, 65])\n",
    "after = np.array([64, 64, 68, 64, 73, 70, 72, 54, 61, 63])\n",
    "\n",
    "# Confirm data is normally distributed with Shapiro-Wilk test\n",
    "print(\"Shapiro-Wilk test of normal distreibution:\\nBefore:\",stats.shapiro(before))\n",
    "print(\"After:\",stats.shapiro(after))"
   ]
  },
  {
   "cell_type": "markdown",
   "metadata": {},
   "source": [
    "The purpose of the t-test is to compare certain characteristics representing groups, and the mean values become representative when the population has a normal distribution. This is why normally distributed data is more suitable in t-test especially with small samples.[1]\n",
    "<br>Shapiro-Wilk test retunred with lower than 0.05 results for both samples. The data is likely normally distributed and more suitable for t-test\n",
    "\n",
    "###### [1]: Kim, T.K. and Park, J.H. (2019). More about the basic assumptions of t-test: normality and sample size. Korean Journal of Anesthesiology, [online] 72(4), pp.331–335. doi:https://doi.org/10.4097/kja.d.18.00292."
   ]
  },
  {
   "cell_type": "markdown",
   "metadata": {},
   "source": [
    "# t-Test\n",
    "\n",
    "A t-Test (or Student's t-test) is a statistical test used to determine whether the difference between two samples is significant or not by testing (in it's most common application) whether the means of the two samples are significantly different. T-Test is usually applied when the sample data would follow a normal distribution. [1]<br>\n",
    "The t-Test utilised in this case is a dependent t-test because the \"Before\" and \"After\" measurements come from the same patients. The \"Before\" data of patient A is paired with the \"After\" data of the same patient. The Null hypothesis in t-tests for paired samples is that the mean of the differences between the pairs is zero. [2]\n",
    "\n",
    "###### [1]: Wikipedia Contributors (2019). Student’s t-test. [online] Wikipedia. Available at: https://en.wikipedia.org/wiki/Student%27s_t-test.<br> [2]: DATAtab Team (2024). t-Test, Chi-Square, ANOVA, Regression, Correlation... [online] datatab.net. Available at: https://datatab.net/tutorial/t-test.\n",
    "\n",
    "‌\n"
   ]
  },
  {
   "cell_type": "markdown",
   "metadata": {},
   "source": [
    "#### Paired t-Test calculation[1]\n",
    "\n",
    "In order to carry out t-test, first the Test Statitstic is calculated:\n",
    "\n",
    "$ t = \\frac{\\bar{x}_{\\text{diff}}}{s_{\\text{diff}} / \\sqrt{n}} $\n",
    "\n",
    "Where:\n",
    "- $\\bar{x}_{\\text{diff}}$: sample mean of the differences\n",
    "- $s_{\\text{diff}}$: sample standard deviation of the differences\n",
    "- $n$: Number of paired samples.\n",
    "\n",
    "The next step is to find the Critical t-value using a two-tailed test [2].<br>\n",
    "With the critical value we can reject or fail to reject the null hypothesis by checking if the difference in the two population means are equal ($ H_{0}$) or not equal ($ H_{A}$)\n",
    "\n",
    "###### [1]: Zach (2021). How to Perform a Paired t-Test by Hand. [online] Statology. Available at: https://www.statology.org/paired-t-test-by-hand/.<br>[2]: Bobbitt, Z. (2020). How to Find the T Critical Value in Python. [online] Statology. Available at: https://www.statology.org/how-to-find-the-t-critical-value-in-python/ [Accessed 22 Nov. 2024].\n"
   ]
  },
  {
   "cell_type": "code",
   "execution_count": null,
   "metadata": {},
   "outputs": [
    {
     "name": "stdout",
     "output_type": "stream",
     "text": [
      "Test statistic: 1.3372274824806283\n"
     ]
    }
   ],
   "source": [
    "# Calculating Test Statistic.\n",
    "\n",
    "#Calculate x_diff\n",
    "x_diff = before-after\n",
    "# find mean and standard deviation of x_diff\n",
    "mean_diff = np.mean(x_diff) # mean of x_diff\n",
    "s_diff = np.std(x_diff, ddof=1)  #standard deviation (ddof=1 for sample)\n",
    "#number of pairs\n",
    "n = len(x_diff)\n",
    "\n",
    "#Calculate t-statistic (t = xdiff / (sdiff/√n))\n",
    "t_stat_manual = mean_diff / (s_diff / np.sqrt(n))\n",
    "\n",
    "print(\"Test statistic:\", t_stat_manual)\n"
   ]
  },
  {
   "cell_type": "code",
   "execution_count": null,
   "metadata": {},
   "outputs": [
    {
     "name": "stdout",
     "output_type": "stream",
     "text": [
      "Critical t-value: 2.2621571627409915\n"
     ]
    }
   ],
   "source": [
    "# Find Critical t-value using python\n",
    "\n",
    "#getting t-Distribution table from python \n",
    "# ref: https://stackoverflow.com/questions/19339305/python-function-to-get-the-t-statistic\n",
    "# ref: https://www.geeksforgeeks.org/how-to-find-the-t-critical-value-in-python/\n",
    "from scipy import stats\n",
    "\n",
    "alpha = 0.05 # standard prbability threshold\n",
    "df = len(before)-1 #(df=n-1)\n",
    "critical_t = stats.t.ppf(1 - alpha / 2, df)\n",
    "print(\"Critical t-value:\", critical_t)"
   ]
  },
  {
   "cell_type": "markdown",
   "metadata": {},
   "source": [
    "#### Results:\n",
    "The test statistic (1.337) does not exceed the critical t-value (2.262). Therefore, we fail to reject the null hypothesis, which states that the mean difference between the paired samples is zero. We cannot claim that there is a statistically significant difference between the means of the two samples."
   ]
  },
  {
   "cell_type": "markdown",
   "metadata": {},
   "source": [
    "### T-Test with scipy.stats\n",
    "\n",
    "Scipy's scipy.stats.ttest_rel() function calculates the t-test on TWO RELATED samples of scores, a and b.\n",
    "This is a test for the null hypothesis that two related or repeated samples have identical average (expected) values.[1]<br>\n",
    "The default assumption of a t-test is that there is no relationship between the samples. Therefore, for measurements from the same individuals, a paired t-test (ttest_rel() in SciPy) is used. For independent groups, ttest_ind() would be used instead.[2]\n",
    "\n",
    "###### [1]: docs.scipy.org. (n.d.). scipy.stats.ttest_rel — SciPy v1.10.0 Manual. [online] Available at: https://docs.scipy.org/doc/scipy/reference/generated/scipy.stats.ttest_rel.html.<br>[2]: Neuraldatascience.io. (2020). Basic Statistics in Python: t tests with SciPy — Neural Data Science in Python. [online] Available at: https://neuraldatascience.io/5-eda/ttests.html [Accessed 22 Nov. 2024]."
   ]
  },
  {
   "cell_type": "code",
   "execution_count": null,
   "metadata": {},
   "outputs": [
    {
     "name": "stdout",
     "output_type": "stream",
     "text": [
      "t-statistic: 1.337227482480628 \n",
      "p-value: 0.21396011317404623 \n",
      "degree of freedom: 9\n"
     ]
    }
   ],
   "source": [
    "# Paired t-test on patient data using scipy.stats\n",
    "from scipy.stats import ttest_rel # scipy for t-test\n",
    "\n",
    "# Perform paired t-test using scipy t-test\n",
    "result = ttest_rel(before, after) #ttest_rel is used for paired or dependent t-test, for independent t-test scipy uses ttest_ind()\n",
    "\n",
    "print(\"t-statistic:\", result[0],\"\\np-value:\", result[1],\"\\ndegree of freedom:\", result.df)\n",
    "\n",
    "#ttest_rel ref: https://docs.scipy.org/doc/scipy/reference/generated/scipy.stats.ttest_rel.html"
   ]
  },
  {
   "cell_type": "markdown",
   "metadata": {},
   "source": [
    "#### Output analysis:\n",
    "\n",
    "In a paired t-test, the hypotheses are:\n",
    "- Null hypothesis: The mean of the differences between the pairs is zero.\n",
    "- Alternative hypothesis: The mean of the differences between the pairs is non-zero.\n",
    "\n",
    "With a p-Value of 0.214 (𝑝>0.05) we can't reject the null hypothesis therefore there is no strong evidence of the difference being non random, hence the effects of the excercise are not statistically significant.\n",
    "\n",
    "\n",
    "#### The results from the manual t-test and scipy.stats t-test are identical; we failed to reject the null hypothesis, indicating that there is no strong evidence that the mean of the differences between the paired samples is non-zero.\n",
    "This suggests in practical terms that the differences in a patient’s heart rate before and after the two-week exercise program are not statistically significant. They might have just stayed home and whatch TV."
   ]
  },
  {
   "cell_type": "markdown",
   "metadata": {},
   "source": []
  },
  {
   "cell_type": "markdown",
   "metadata": {},
   "source": []
  },
  {
   "cell_type": "markdown",
   "metadata": {},
   "source": []
  },
  {
   "cell_type": "markdown",
   "metadata": {},
   "source": [
    "# Task 4: ANOVA\n",
    "In this test we will estimate the probability of committing a type II error in specific circumstances. To begin, create a variable called no_type_ii and set it to 0.\n",
    "\n",
    "Now use a loop to perform the following test 10,000 times.\n",
    "\n",
    "Use numpy.random.normal to generate three samples with 100 values each. Give each a standard deviation of 0.1. Give the first sample a mean of 4.9, the second a mean of 5.0, and the third a mean of 5.1.\n",
    "\n",
    "Perform one-way anova on the three samples and add 1 to no_type_ii whenever a type II error occurs.\n",
    "\n",
    "Summarize and explain your results."
   ]
  }
 ],
 "metadata": {
  "kernelspec": {
   "display_name": "base",
   "language": "python",
   "name": "python3"
  },
  "language_info": {
   "codemirror_mode": {
    "name": "ipython",
    "version": 3
   },
   "file_extension": ".py",
   "mimetype": "text/x-python",
   "name": "python",
   "nbconvert_exporter": "python",
   "pygments_lexer": "ipython3",
   "version": "3.9.18"
  }
 },
 "nbformat": 4,
 "nbformat_minor": 2
}
