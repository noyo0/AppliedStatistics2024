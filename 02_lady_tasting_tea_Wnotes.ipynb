{
 "cells": [
  {
   "cell_type": "markdown",
   "metadata": {},
   "source": [
    "# Lady Tasting Tea"
   ]
  },
  {
   "cell_type": "code",
   "execution_count": 218,
   "metadata": {},
   "outputs": [],
   "source": [
    "# Mathematical functions from the standard library.\n",
    "# https://docs.python.org/3/library/math.html\n",
    "import math\n",
    "# Permutations and combinations.\n",
    "# https://docs.python.org/3/library/itertools.html\n",
    "import itertools\n",
    "# Random selections.\n",
    "# https://docs.python.org/3/library/random.html\n",
    "import random\n",
    "# Numerical structures and operations.\n",
    "# https://numpy.org/doc/stable/reference/index.html#reference\n",
    "import numpy as np\n",
    "# Plotting.\n",
    "# https://matplotlib.org/stable/contents.html\n",
    "import matplotlib.pyplot as plt"
   ]
  },
  {
   "cell_type": "markdown",
   "metadata": {},
   "source": [
    "## The Design of Experiments"
   ]
  },
  {
   "cell_type": "markdown",
   "metadata": {},
   "source": [
    "> <img src=\"https://upload.wikimedia.org/wikipedia/commons/a/aa/Youngronaldfisher2.JPG\" alt=\"Alt text\" style=\"height:300px;float:right;\">\n",
    "> A lady declares that by tasting a cup of tea made with milk she can discriminate whether the milk or the tea infusion was first added to the cup. We will consider the problem of designing an experiment by means of which this assertion can be tested. For this purpose let us first lay down a simple form of experiment with a view to studying its limitations and its characteristics, both those which appear to be essential to the experimental method, when well developed, and those which are not essential but auxiliary.<br><br>\n",
    "> Our experiment consists in mixing eight cups of tea, four in one way and four in the other, and presenting them to the subject for judgment in a random order. The subject has been told in advance of what the test will consist, namely that she will be asked to taste eight cups, that these shall be four of each kind, and that they shall be presented to her in a random order, that is in an order not determined arbitrarily by human choice, but by the actual manipulation of the physical apparatus used in games of chance cards, dice, roulettes, etc., or, more expeditiously, from a published collection of random sampling numbers purporting to give the actual results of such manipulation. Her task is to divide the 8 cups into two sets of 4, agreeing, if possible, with the treatments received.<br><br>\n",
    "> <i>The Design of Experiments By Ronald A. Fisher</i>"
   ]
  },
  {
   "cell_type": "markdown",
   "metadata": {},
   "source": [
    "### <span style=\"color:red\">My Notes</span>\n",
    "\n",
    "### 1. Statistical hypothesis testing is a method to make decisions about a population based on sample data.\n",
    "\n",
    "+ Null Hypothesis (H₀): Assumes no effect or difference (e.g., a treatment has no impact).\n",
    "+ Alternative Hypothesis (H₁): Assumes there is an effect or difference.\n",
    "+ Test: Collect data and calculate a test statistic.\n",
    "+ P-Value: Measure the probability of observing the data if H₀ is true.\n",
    "+ Decision: If the p-value is low (below a threshold, usually 0.05), reject H₀ in favor of H₁.\n",
    "\n",
    "Statistical Hypothesis Testing helps determine if results are statistically significant.\n",
    "\n",
    "### 1.1 Lady tasting tea - Statistical Hypothesis testing example\n",
    "The \"Lady Tasting Tea\" experiment is a famous example of hypothesis testing in statistics, designed by Ronald Fisher. In the experiment, a lady claimed she could tell if tea or milk was added first to a cup. Fisher set up a blind test with 8 cups (4 tea-first, 4 milk-first) to test her ability.<br>\n",
    "+ Null Hypothesis (H₀): The lady cannot distinguish between tea-first and milk-first.\n",
    "+ Alternative Hypothesis (H₁): The lady can distinguish between them.\n",
    "  \n",
    "#### 1.1.1 The experiment to statistically test if her claim was genuine or just luck was conducted as follows:\n",
    "\n",
    "+ Setup: 8 cups of tea were prepared—4 had tea poured first, and 4 had milk poured first.\n",
    "+ Blind Test: The lady didn’t know which cups were prepared in which way.\n",
    "+ Task: She was asked to identify whether tea or milk was added first for each cup.\n",
    "+ Result: She had to guess correctly for all 8 cups.\n",
    "+ Analysis: Fisher compared her results to what would be expected by chance alone (hypothesis testing).\n",
    "\n",
    "\n",
    "<br>This experiment illustrates how hypothesis testing works by comparing observed results to what we’d expect under the null hypothesis."
   ]
  },
  {
   "cell_type": "markdown",
   "metadata": {},
   "source": [
    "## Permutations and Combinations\n",
    "\n",
    "### Permutations\n",
    "\n",
    "A permutation is an ordering of its elements.\n",
    "\n",
    "The set `{a, b, c}` has the permutations `abc`, `acb`, `bac`, `bca`, `cab`, and `cba`.\n",
    "\n",
    "\n",
    "### Combinations\n",
    "\n",
    "A combination is a selection of `k` elements from a set of size `n`.\n",
    "\n",
    "In combinations, order does not matter and the same element cannot be selected twice.\n",
    "\n",
    "The combinations of size 2 from the set `{a, b, c}` are `{a, b}`, `{a, c}`, and `{b, c}`."
   ]
  },
  {
   "cell_type": "markdown",
   "metadata": {},
   "source": [
    "## Cups of Tea"
   ]
  },
  {
   "cell_type": "code",
   "execution_count": 219,
   "metadata": {},
   "outputs": [],
   "source": [
    "# Number of cups of tea in total.\n",
    "no_cups = 8\n",
    "\n",
    "# Number of cups of tea with milk in first.\n",
    "no_cups_milk_first = 4\n",
    "\n",
    "# Number of cups of tea with tea in first.\n",
    "no_cups_tea_first = 4"
   ]
  },
  {
   "cell_type": "markdown",
   "metadata": {},
   "source": [
    "## math.comb(n, k)\n",
    "\n",
    "https://docs.python.org/3/library/math.html#math.comb\n",
    "\n",
    "Calculate the number of ways to choose **k** elements from a set of **n** elements where the order of the chosen elements does not matter and no element is selected more than once."
   ]
  },
  {
   "cell_type": "code",
   "execution_count": 220,
   "metadata": {},
   "outputs": [
    {
     "data": {
      "text/plain": [
       "70"
      ]
     },
     "execution_count": 220,
     "metadata": {},
     "output_type": "execute_result"
    }
   ],
   "source": [
    "# Number of ways of selecting four cups from eight.\n",
    "ways = math.comb(no_cups, no_cups_milk_first)\n",
    "\n",
    "# Show.\n",
    "ways"
   ]
  },
  {
   "cell_type": "markdown",
   "metadata": {},
   "source": [
    "Label the eight cups of tea `1`, `2`, `3`, `4`, `5`, `6`, `7`, and `8`.\n",
    "\n",
    "We select four cups to have milk in first.\n",
    "\n",
    "For example, we might select `2`, `4`, `5`, and `8`.\n",
    "\n",
    "Visualize having four placeholders where we place four of the cup labels.\n",
    "\n",
    "How many ways are there to select four cups from eight?\n",
    "\n",
    "Cups: `1 2 3 4 5 6 7 8`\n",
    "\n",
    "Placeholders: `_ _ _ _`\n",
    "\n"
   ]
  },
  {
   "cell_type": "code",
   "execution_count": 221,
   "metadata": {},
   "outputs": [
    {
     "data": {
      "text/plain": [
       "1680"
      ]
     },
     "execution_count": 221,
     "metadata": {},
     "output_type": "execute_result"
    }
   ],
   "source": [
    "# Total number of ways of selecting four cups from eight, keeping them in order.\n",
    "ways_ordered = 8 * 7 * 6 * 5 # first has 8 out of 8 options, second has 7 out of 8, third 6 out of 8 and so on\n",
    "\n",
    "# Show.\n",
    "ways_ordered"
   ]
  },
  {
   "cell_type": "markdown",
   "metadata": {},
   "source": [
    "Note we don't care about order: if cups `2`, `4`, `5`, and `8` are selected in order it is the same result as if `2`, `8`, `4`, and `5` were selected, or any other permutation.\n",
    "\n",
    "`4 8 6 5`\n",
    "\n",
    "`8 6 4 5`\n",
    "\n",
    "`_ _ _ _`"
   ]
  },
  {
   "cell_type": "code",
   "execution_count": 222,
   "metadata": {},
   "outputs": [
    {
     "data": {
      "text/plain": [
       "24"
      ]
     },
     "execution_count": 222,
     "metadata": {},
     "output_type": "execute_result"
    }
   ],
   "source": [
    "# Number of ways of shuffling four cups.\n",
    "no_shuffles = 4 * 3 * 2 * 1 #first has all the 4 cups, the second has the remaining 3, third the remaining 2 etc.\n",
    "\n",
    "# Show.\n",
    "no_shuffles"
   ]
  },
  {
   "cell_type": "code",
   "execution_count": 223,
   "metadata": {},
   "outputs": [
    {
     "data": {
      "text/plain": [
       "70"
      ]
     },
     "execution_count": 223,
     "metadata": {},
     "output_type": "execute_result"
    }
   ],
   "source": [
    "# Number of combinations.\n",
    "no_combs = ways_ordered // no_shuffles #1680/24 - 1680 ways of selecting 4 out of 8 cups devided by the 24 ways of shuffling the selected 4 cups\n",
    "\n",
    "# Show.\n",
    "no_combs"
   ]
  },
  {
   "cell_type": "markdown",
   "metadata": {},
   "source": [
    "## Formula\n",
    "\n",
    "In mathematics, the `math.comb()` function is called the *choose* function.\n",
    "\n",
    "It is written and calculated as\n",
    "\n",
    "$\\binom{n}{k} = \\frac{n!}{k!(n-k)!}$.\n"
   ]
  },
  {
   "cell_type": "markdown",
   "metadata": {},
   "source": [
    "## math.factorial\n",
    "\n",
    "https://docs.python.org/3.12/library/math.html#math.factorial\n",
    "\n",
    "Mathematically denoted as `n!`.\n",
    "\n",
    "Multiply all positive integers from `n` down to 1.\n",
    "\n",
    "\n",
    "`n! = n x (n - 1) x (n - 2) x ... x 1`\n",
    "\n",
    "e.g. `5! = 5 x 4 x 3 x 2 x 1 = 120`"
   ]
  },
  {
   "cell_type": "code",
   "execution_count": 224,
   "metadata": {},
   "outputs": [
    {
     "name": "stdout",
     "output_type": "stream",
     "text": [
      "n!=  40320\n",
      "k!=  24\n"
     ]
    }
   ],
   "source": [
    "# Number of cups of tea in total.\n",
    "n = 8\n",
    "# Number of cups of tea with milk in first.\n",
    "k = 4\n",
    "# n! (factorial of 8) is the number of ways to arrange all 8 cups, without any restrictions.\n",
    "print(\"n!= \",math.factorial(n))\n",
    "# k! (factorial of 4) is the number of ways to arrange the 4 cups where the milk was poured first.\n",
    "print(\"k!= \", math.factorial(k))"
   ]
  },
  {
   "cell_type": "code",
   "execution_count": 225,
   "metadata": {},
   "outputs": [
    {
     "data": {
      "text/plain": [
       "24"
      ]
     },
     "execution_count": 225,
     "metadata": {},
     "output_type": "execute_result"
    }
   ],
   "source": [
    "# number of ways to arrange the remainig cups n-k\n",
    "math.factorial(n-k)"
   ]
  },
  {
   "cell_type": "code",
   "execution_count": 226,
   "metadata": {},
   "outputs": [
    {
     "name": "stdout",
     "output_type": "stream",
     "text": [
      "!n / !k * (n-k) = C\n",
      "!n:40320 / !k:24 * (n-k)!:24 = 70\n"
     ]
    }
   ],
   "source": [
    "# previously calculated: no_combinations = ways_ordered // no_shuffles \n",
    "# #1680/24 - 1680 ways of selecting 4 out of 8 cups devided by the 24 ways of shuffling the selected 4 cups = 70\n",
    "# No of ways of selecting k objects from n without replacement and without order.\n",
    "# all the cups         # selected cups        # remaining cups\n",
    "math.factorial(n) // (math.factorial(k) * math.factorial(n - k))\n",
    "\n",
    "#equation:\n",
    "print(\"!n / !k * (n-k) = C\")\n",
    "print(f\"!n:{math.factorial(n)} / !k:{math.factorial(k)} * (n-k)!:{math.factorial(n - k)} = {math.factorial(n) // (math.factorial(k) * math.factorial(n - k))}\")"
   ]
  },
  {
   "cell_type": "markdown",
   "metadata": {},
   "source": [
    "In the context of the \"Lady Tasting Tea\" problem, we are testing whether the lady can correctly identify cups where the milk was poured first. Suppose there are \n",
    "+ 𝑛 cups in total, and out of those, \n",
    "+ 𝑘 cups have the milk poured first. The task is to count how many different ways the lady can choose \n",
    "+ 𝑘 cups from \n",
    "+ 𝑛 cups.\n",
    "\n",
    "This is where the binomial coefficient comes in, represented as:\n",
    "$C(n, k) = \\frac{n!}{k! \\times (n - k)!}$\n",
    "<br> It calculates the number of unique combinations of 𝑘 objects from 𝑛 total objects.\n",
    "<br>\n",
    "<br>  n! = 8 x 7 x 6 x 5 x 4 x 3 x 2 x 1\n",
    "<br>  k! = 4 x 3 x 2 x 1\n",
    "<br>  (n - k)! = 4 x 3 x 2 x 1\n",
    "  \n",
    "<br>  $C(n, k) = \\frac{n!}{k! \\times (n - k)!}$\n",
    "<br>  n!/(n - k)! = (8 x 7 x 6 x 5 x 4 x 3 x 2 x 1) / (4 x 3 x 2 x 1) = 8 x 7 x 6 x 5 = **70**"
   ]
  },
  {
   "cell_type": "markdown",
   "metadata": {},
   "source": [
    "## Ordering of Results\n",
    "\n",
    "https://docs.python.org/3/library/itertools.html#itertools.combinations"
   ]
  },
  {
   "cell_type": "code",
   "execution_count": 227,
   "metadata": {},
   "outputs": [
    {
     "data": {
      "text/plain": [
       "[0, 1, 2, 3, 4, 5, 6, 7]"
      ]
     },
     "execution_count": 227,
     "metadata": {},
     "output_type": "execute_result"
    }
   ],
   "source": [
    "# make labels for the cups \n",
    "\n",
    "no_cups = 8 # Number of cups of tea in total.\n",
    "\n",
    "# Create The cup labels.\n",
    "labels = list(range(no_cups))\n",
    "# Show.\n",
    "labels"
   ]
  },
  {
   "cell_type": "code",
   "execution_count": 228,
   "metadata": {},
   "outputs": [
    {
     "data": {
      "text/plain": [
       "[(0, 1, 2, 3),\n",
       " (0, 1, 2, 4),\n",
       " (0, 1, 2, 5),\n",
       " (0, 1, 2, 6),\n",
       " (0, 1, 2, 7),\n",
       " (0, 1, 3, 4),\n",
       " (0, 1, 3, 5),\n",
       " (0, 1, 3, 6),\n",
       " (0, 1, 3, 7),\n",
       " (0, 1, 4, 5),\n",
       " (0, 1, 4, 6),\n",
       " (0, 1, 4, 7),\n",
       " (0, 1, 5, 6),\n",
       " (0, 1, 5, 7),\n",
       " (0, 1, 6, 7),\n",
       " (0, 2, 3, 4),\n",
       " (0, 2, 3, 5),\n",
       " (0, 2, 3, 6),\n",
       " (0, 2, 3, 7),\n",
       " (0, 2, 4, 5),\n",
       " (0, 2, 4, 6),\n",
       " (0, 2, 4, 7),\n",
       " (0, 2, 5, 6),\n",
       " (0, 2, 5, 7),\n",
       " (0, 2, 6, 7),\n",
       " (0, 3, 4, 5),\n",
       " (0, 3, 4, 6),\n",
       " (0, 3, 4, 7),\n",
       " (0, 3, 5, 6),\n",
       " (0, 3, 5, 7),\n",
       " (0, 3, 6, 7),\n",
       " (0, 4, 5, 6),\n",
       " (0, 4, 5, 7),\n",
       " (0, 4, 6, 7),\n",
       " (0, 5, 6, 7),\n",
       " (1, 2, 3, 4),\n",
       " (1, 2, 3, 5),\n",
       " (1, 2, 3, 6),\n",
       " (1, 2, 3, 7),\n",
       " (1, 2, 4, 5),\n",
       " (1, 2, 4, 6),\n",
       " (1, 2, 4, 7),\n",
       " (1, 2, 5, 6),\n",
       " (1, 2, 5, 7),\n",
       " (1, 2, 6, 7),\n",
       " (1, 3, 4, 5),\n",
       " (1, 3, 4, 6),\n",
       " (1, 3, 4, 7),\n",
       " (1, 3, 5, 6),\n",
       " (1, 3, 5, 7),\n",
       " (1, 3, 6, 7),\n",
       " (1, 4, 5, 6),\n",
       " (1, 4, 5, 7),\n",
       " (1, 4, 6, 7),\n",
       " (1, 5, 6, 7),\n",
       " (2, 3, 4, 5),\n",
       " (2, 3, 4, 6),\n",
       " (2, 3, 4, 7),\n",
       " (2, 3, 5, 6),\n",
       " (2, 3, 5, 7),\n",
       " (2, 3, 6, 7),\n",
       " (2, 4, 5, 6),\n",
       " (2, 4, 5, 7),\n",
       " (2, 4, 6, 7),\n",
       " (2, 5, 6, 7),\n",
       " (3, 4, 5, 6),\n",
       " (3, 4, 5, 7),\n",
       " (3, 4, 6, 7),\n",
       " (3, 5, 6, 7),\n",
       " (4, 5, 6, 7)]"
      ]
     },
     "execution_count": 228,
     "metadata": {},
     "output_type": "execute_result"
    }
   ],
   "source": [
    "# Show the different ways (combinations) of selecting no_cups_milk_first out of no_cups cups of tea.\n",
    "combinations = list(itertools.combinations(labels, no_cups_milk_first))\n",
    "# Show.\n",
    "combs=combinations\n",
    "combs"
   ]
  },
  {
   "cell_type": "code",
   "execution_count": 229,
   "metadata": {},
   "outputs": [
    {
     "data": {
      "text/plain": [
       "70"
      ]
     },
     "execution_count": 229,
     "metadata": {},
     "output_type": "execute_result"
    }
   ],
   "source": [
    "# Number of combinations.\n",
    "len(combs)"
   ]
  },
  {
   "cell_type": "code",
   "execution_count": 230,
   "metadata": {},
   "outputs": [
    {
     "data": {
      "text/plain": [
       "[0, 2, 4, 5]"
      ]
     },
     "execution_count": 230,
     "metadata": {},
     "output_type": "execute_result"
    }
   ],
   "source": [
    "# Select four cups at random to put milk in first.\n",
    "# https://docs.python.org/3/library/random.html#random.sample\n",
    "labels_milk = random.sample(labels, 4)\n",
    "\n",
    "# Sort, inplace.\n",
    "labels_milk.sort()\n",
    "\n",
    "# Show.\n",
    "labels_milk"
   ]
  },
  {
   "cell_type": "code",
   "execution_count": 231,
   "metadata": {},
   "outputs": [
    {
     "data": {
      "text/plain": [
       "{0, 2, 4, 5}"
      ]
     },
     "execution_count": 231,
     "metadata": {},
     "output_type": "execute_result"
    }
   ],
   "source": [
    "# Turn labels_milk into a set.\n",
    "# Uses: https://docs.python.org/3/tutorial/datastructures.html#sets\n",
    "set(labels_milk)"
   ]
  },
  {
   "cell_type": "code",
   "execution_count": 232,
   "metadata": {},
   "outputs": [
    {
     "name": "stdout",
     "output_type": "stream",
     "text": [
      "combination:  (0, 1, 2, 3) of which milk-first-cups:  {0, 2} count of milk-first-cups:  2\n",
      "combination:  (0, 1, 2, 4) of which milk-first-cups:  {0, 2, 4} count of milk-first-cups:  3\n",
      "combination:  (0, 1, 2, 5) of which milk-first-cups:  {0, 2, 5} count of milk-first-cups:  3\n",
      "combination:  (0, 1, 2, 6) of which milk-first-cups:  {0, 2} count of milk-first-cups:  2\n",
      "combination:  (0, 1, 2, 7) of which milk-first-cups:  {0, 2} count of milk-first-cups:  2\n",
      "combination:  (0, 1, 3, 4) of which milk-first-cups:  {0, 4} count of milk-first-cups:  2\n",
      "combination:  (0, 1, 3, 5) of which milk-first-cups:  {0, 5} count of milk-first-cups:  2\n",
      "combination:  (0, 1, 3, 6) of which milk-first-cups:  {0} count of milk-first-cups:  1\n",
      "combination:  (0, 1, 3, 7) of which milk-first-cups:  {0} count of milk-first-cups:  1\n",
      "combination:  (0, 1, 4, 5) of which milk-first-cups:  {0, 4, 5} count of milk-first-cups:  3\n",
      "combination:  (0, 1, 4, 6) of which milk-first-cups:  {0, 4} count of milk-first-cups:  2\n",
      "combination:  (0, 1, 4, 7) of which milk-first-cups:  {0, 4} count of milk-first-cups:  2\n",
      "combination:  (0, 1, 5, 6) of which milk-first-cups:  {0, 5} count of milk-first-cups:  2\n",
      "combination:  (0, 1, 5, 7) of which milk-first-cups:  {0, 5} count of milk-first-cups:  2\n",
      "combination:  (0, 1, 6, 7) of which milk-first-cups:  {0} count of milk-first-cups:  1\n",
      "combination:  (0, 2, 3, 4) of which milk-first-cups:  {0, 2, 4} count of milk-first-cups:  3\n",
      "combination:  (0, 2, 3, 5) of which milk-first-cups:  {0, 2, 5} count of milk-first-cups:  3\n",
      "combination:  (0, 2, 3, 6) of which milk-first-cups:  {0, 2} count of milk-first-cups:  2\n",
      "combination:  (0, 2, 3, 7) of which milk-first-cups:  {0, 2} count of milk-first-cups:  2\n",
      "combination:  (0, 2, 4, 5) of which milk-first-cups:  {0, 2, 4, 5} count of milk-first-cups:  4\n",
      "combination:  (0, 2, 4, 6) of which milk-first-cups:  {0, 2, 4} count of milk-first-cups:  3\n",
      "combination:  (0, 2, 4, 7) of which milk-first-cups:  {0, 2, 4} count of milk-first-cups:  3\n",
      "combination:  (0, 2, 5, 6) of which milk-first-cups:  {0, 2, 5} count of milk-first-cups:  3\n",
      "combination:  (0, 2, 5, 7) of which milk-first-cups:  {0, 2, 5} count of milk-first-cups:  3\n",
      "combination:  (0, 2, 6, 7) of which milk-first-cups:  {0, 2} count of milk-first-cups:  2\n",
      "combination:  (0, 3, 4, 5) of which milk-first-cups:  {0, 4, 5} count of milk-first-cups:  3\n",
      "combination:  (0, 3, 4, 6) of which milk-first-cups:  {0, 4} count of milk-first-cups:  2\n",
      "combination:  (0, 3, 4, 7) of which milk-first-cups:  {0, 4} count of milk-first-cups:  2\n",
      "combination:  (0, 3, 5, 6) of which milk-first-cups:  {0, 5} count of milk-first-cups:  2\n",
      "combination:  (0, 3, 5, 7) of which milk-first-cups:  {0, 5} count of milk-first-cups:  2\n",
      "combination:  (0, 3, 6, 7) of which milk-first-cups:  {0} count of milk-first-cups:  1\n",
      "combination:  (0, 4, 5, 6) of which milk-first-cups:  {0, 4, 5} count of milk-first-cups:  3\n",
      "combination:  (0, 4, 5, 7) of which milk-first-cups:  {0, 4, 5} count of milk-first-cups:  3\n",
      "combination:  (0, 4, 6, 7) of which milk-first-cups:  {0, 4} count of milk-first-cups:  2\n",
      "combination:  (0, 5, 6, 7) of which milk-first-cups:  {0, 5} count of milk-first-cups:  2\n",
      "combination:  (1, 2, 3, 4) of which milk-first-cups:  {2, 4} count of milk-first-cups:  2\n",
      "combination:  (1, 2, 3, 5) of which milk-first-cups:  {2, 5} count of milk-first-cups:  2\n",
      "combination:  (1, 2, 3, 6) of which milk-first-cups:  {2} count of milk-first-cups:  1\n",
      "combination:  (1, 2, 3, 7) of which milk-first-cups:  {2} count of milk-first-cups:  1\n",
      "combination:  (1, 2, 4, 5) of which milk-first-cups:  {2, 4, 5} count of milk-first-cups:  3\n",
      "combination:  (1, 2, 4, 6) of which milk-first-cups:  {2, 4} count of milk-first-cups:  2\n",
      "combination:  (1, 2, 4, 7) of which milk-first-cups:  {2, 4} count of milk-first-cups:  2\n",
      "combination:  (1, 2, 5, 6) of which milk-first-cups:  {2, 5} count of milk-first-cups:  2\n",
      "combination:  (1, 2, 5, 7) of which milk-first-cups:  {2, 5} count of milk-first-cups:  2\n",
      "combination:  (1, 2, 6, 7) of which milk-first-cups:  {2} count of milk-first-cups:  1\n",
      "combination:  (1, 3, 4, 5) of which milk-first-cups:  {4, 5} count of milk-first-cups:  2\n",
      "combination:  (1, 3, 4, 6) of which milk-first-cups:  {4} count of milk-first-cups:  1\n",
      "combination:  (1, 3, 4, 7) of which milk-first-cups:  {4} count of milk-first-cups:  1\n",
      "combination:  (1, 3, 5, 6) of which milk-first-cups:  {5} count of milk-first-cups:  1\n",
      "combination:  (1, 3, 5, 7) of which milk-first-cups:  {5} count of milk-first-cups:  1\n",
      "combination:  (1, 3, 6, 7) of which milk-first-cups:  set() count of milk-first-cups:  0\n",
      "combination:  (1, 4, 5, 6) of which milk-first-cups:  {4, 5} count of milk-first-cups:  2\n",
      "combination:  (1, 4, 5, 7) of which milk-first-cups:  {4, 5} count of milk-first-cups:  2\n",
      "combination:  (1, 4, 6, 7) of which milk-first-cups:  {4} count of milk-first-cups:  1\n",
      "combination:  (1, 5, 6, 7) of which milk-first-cups:  {5} count of milk-first-cups:  1\n",
      "combination:  (2, 3, 4, 5) of which milk-first-cups:  {2, 4, 5} count of milk-first-cups:  3\n",
      "combination:  (2, 3, 4, 6) of which milk-first-cups:  {2, 4} count of milk-first-cups:  2\n",
      "combination:  (2, 3, 4, 7) of which milk-first-cups:  {2, 4} count of milk-first-cups:  2\n",
      "combination:  (2, 3, 5, 6) of which milk-first-cups:  {2, 5} count of milk-first-cups:  2\n",
      "combination:  (2, 3, 5, 7) of which milk-first-cups:  {2, 5} count of milk-first-cups:  2\n",
      "combination:  (2, 3, 6, 7) of which milk-first-cups:  {2} count of milk-first-cups:  1\n",
      "combination:  (2, 4, 5, 6) of which milk-first-cups:  {2, 4, 5} count of milk-first-cups:  3\n",
      "combination:  (2, 4, 5, 7) of which milk-first-cups:  {2, 4, 5} count of milk-first-cups:  3\n",
      "combination:  (2, 4, 6, 7) of which milk-first-cups:  {2, 4} count of milk-first-cups:  2\n",
      "combination:  (2, 5, 6, 7) of which milk-first-cups:  {2, 5} count of milk-first-cups:  2\n",
      "combination:  (3, 4, 5, 6) of which milk-first-cups:  {4, 5} count of milk-first-cups:  2\n",
      "combination:  (3, 4, 5, 7) of which milk-first-cups:  {4, 5} count of milk-first-cups:  2\n",
      "combination:  (3, 4, 6, 7) of which milk-first-cups:  {4} count of milk-first-cups:  1\n",
      "combination:  (3, 5, 6, 7) of which milk-first-cups:  {5} count of milk-first-cups:  1\n",
      "combination:  (4, 5, 6, 7) of which milk-first-cups:  {4, 5} count of milk-first-cups:  2\n"
     ]
    }
   ],
   "source": [
    "# Calculate the overlap between each element of combs and labels_milk.\n",
    "\n",
    "no_overlaps = [] #number of overlaps (where the selected cups contain milk first cups)\n",
    "\n",
    "for comb in combs:\n",
    "  # Turn comb into a set.\n",
    "  s1 = set(comb)\n",
    "  # Turn labels_milk into a set.\n",
    "  s2 = set(labels_milk)\n",
    "  # Figure out where they overlap.\n",
    "  overlap = s1.intersection(s2)\n",
    "  # Show the combination and the overlap.\n",
    "  print(\"combination: \",comb,\"of which milk-first-cups: \", overlap, \"count of milk-first-cups: \", len(overlap))\n",
    "  # Append overlap to no_overlaps.\n",
    "  no_overlaps.append(len(overlap))"
   ]
  },
  {
   "cell_type": "code",
   "execution_count": 233,
   "metadata": {},
   "outputs": [
    {
     "name": "stdout",
     "output_type": "stream",
     "text": [
      "[2, 3, 3, 2, 2, 2, 2, 1, 1, 3, 2, 2, 2, 2, 1, 3, 3, 2, 2, 4, 3, 3, 3, 3, 2, 3, 2, 2, 2, 2, 1, 3, 3, 2, 2, 2, 2, 1, 1, 3, 2, 2, 2, 2, 1, 2, 1, 1, 1, 1, 0, 2, 2, 1, 1, 3, 2, 2, 2, 2, 1, 3, 3, 2, 2, 2, 2, 1, 1, 2]\n"
     ]
    }
   ],
   "source": [
    "# Show the overlaps.\n",
    "print(no_overlaps)"
   ]
  },
  {
   "cell_type": "code",
   "execution_count": 234,
   "metadata": {},
   "outputs": [
    {
     "data": {
      "text/plain": [
       "(array([0, 1, 2, 3, 4]), array([ 1, 16, 36, 16,  1], dtype=int64))"
      ]
     },
     "execution_count": 234,
     "metadata": {},
     "output_type": "execute_result"
    }
   ],
   "source": [
    "# Count the number of times each scenario (overlap) occurs.\n",
    "counts = np.unique(no_overlaps, return_counts=True)\n",
    "\n",
    "# Show.\n",
    "counts"
   ]
  },
  {
   "cell_type": "markdown",
   "metadata": {},
   "source": [
    "There is 1 combination when there are no milk-cups selected and 1 combination when all 4 is selected. for having only 1 right and only 3 right is 16 and to get only 2 right there are 36 combos."
   ]
  },
  {
   "cell_type": "code",
   "execution_count": 235,
   "metadata": {},
   "outputs": [
    {
     "data": {
      "image/png": "[encoded data removed]",
      "text/plain": [
       "<Figure size 600x400 with 1 Axes>"
      ]
     },
     "metadata": {},
     "output_type": "display_data"
    }
   ],
   "source": [
    "# visualising the possible combos and possible correct selections\n",
    "fig, ax = plt.subplots(figsize=(6, 4))\n",
    "\n",
    "bars = ax.bar(counts[0], counts[1], color='#ecdcc2')\n",
    "ax.set_xlabel('Number of milk-first-cups in the combination')\n",
    "ax.set_ylabel('Number of possible combinations')\n",
    "# Add values on top of the bars.\n",
    "for bar in bars:\n",
    "    yval = bar.get_height()\n",
    "    ax.text(bar.get_x() + bar.get_width()/2, yval, int(yval), ha='center', va='bottom')\n",
    "\n",
    "plt.show()"
   ]
  },
  {
   "cell_type": "markdown",
   "metadata": {},
   "source": [
    "## The Null Hypothesis"
   ]
  },
  {
   "cell_type": "markdown",
   "metadata": {},
   "source": [
    "- The lady has no special power to tell the difference between cups of tea with milk in first and cups of tea with tea in first.\n",
    "\n",
    "- The lady is selecting the four cups from the eight cups at random."
   ]
  },
  {
   "cell_type": "markdown",
   "metadata": {},
   "source": [
    "## Alternative Hypothesis\n",
    "\n",
    "- The lady can tell the difference. "
   ]
  },
  {
   "cell_type": "markdown",
   "metadata": {},
   "source": [
    "### Evidence\n",
    "\n",
    "Fisher: if the lady is just picking four cups at random, then it is unlikely she will pick the correct four. The probability is one in seventy. It is so unlikely, that I will agree that something non-random is happening when she is selecting the cups of tea. "
   ]
  },
  {
   "cell_type": "code",
   "execution_count": 236,
   "metadata": {},
   "outputs": [
    {
     "data": {
      "text/plain": [
       "0.014285714285714285"
      ]
     },
     "execution_count": 236,
     "metadata": {},
     "output_type": "execute_result"
    }
   ],
   "source": [
    "# The probability that she (randomly) selects the four correct cups.\n",
    "1 / 70"
   ]
  },
  {
   "cell_type": "code",
   "execution_count": 237,
   "metadata": {},
   "outputs": [
    {
     "data": {
      "text/plain": [
       "0.24285714285714285"
      ]
     },
     "execution_count": 237,
     "metadata": {},
     "output_type": "execute_result"
    }
   ],
   "source": [
    "# The probability that she (randomly) selects at least three correct cups.\n",
    "(16 + 1) / 70"
   ]
  },
  {
   "cell_type": "markdown",
   "metadata": {},
   "source": [
    "## Type I Errors, Type II Errors, and Power"
   ]
  },
  {
   "cell_type": "markdown",
   "metadata": {},
   "source": [
    " - Type I and Type II errors: https://en.wikipedia.org/wiki/Type_I_and_type_II_errors#Table_of_error_types\n",
    " - Power: https://en.wikipedia.org/wiki/Power_(statistics)#Description"
   ]
  },
  {
   "cell_type": "markdown",
   "metadata": {},
   "source": [
    "## Type I Errors, Type II Errors, and Power\n",
    "\n",
    "### Type I Errors (False Positive)\n",
    "- **What it is**: A Type I error occurs when you reject the null hypothesis when it's actually true.\n",
    "- **Example**: In the \"Lady Tasting Tea\" problem, you conclude she can distinguish milk-first cups when she actually cannot.\n",
    "- **Significance level (\\( \\alpha \\))**: This is the probability of making a Type I error, often set at 0.05.\n",
    "\n",
    "### Type II Errors (False Negative)\n",
    "- **What it is**: A Type II error happens when you fail to reject the null hypothesis when it's actually false.\n",
    "- **Example**: You conclude the lady cannot distinguish milk-first cups when she actually can.\n",
    "- **Probability (\\( \\beta \\))**: This is the likelihood of making a Type II error.\n",
    "\n",
    "### Power of a Test\n",
    "- **What it is**: The power of a test is the probability of correctly rejecting the null hypothesis when it is false. In other words, it’s the ability to detect an effect when there is one.\n",
    "- **Formula**: Power = \\( 1 - \\beta \\)\n",
    "- **Example**: If the test has high power, you are more likely to correctly conclude the lady can distinguish the cups if she actually can.\n",
    "\n",
    "In summary:\n",
    "- **Type I error**: Incorrectly concluding there’s an effect (false alarm).\n",
    "- **Type II error**: Missing a real effect (failing to detect something that’s there).\n",
    "- **Power**: The ability to correctly detect a true effect.\n"
   ]
  },
  {
   "cell_type": "markdown",
   "metadata": {},
   "source": [
    "##### Note\n",
    "This notebook was created with the help of [GitHub Copilot](https://github.com/features/copilot)."
   ]
  },
  {
   "cell_type": "markdown",
   "metadata": {},
   "source": [
    "## End"
   ]
  }
 ],
 "metadata": {
  "kernelspec": {
   "display_name": "base",
   "language": "python",
   "name": "python3"
  },
  "language_info": {
   "codemirror_mode": {
    "name": "ipython",
    "version": 3
   },
   "file_extension": ".py",
   "mimetype": "text/x-python",
   "name": "python",
   "nbconvert_exporter": "python",
   "pygments_lexer": "ipython3",
   "version": "3.9.18"
  }
 },
 "nbformat": 4,
 "nbformat_minor": 2
}
