{
 "cells": [
  {
   "cell_type": "markdown",
   "metadata": {},
   "source": [
    "# Project\n",
    "\n",
    "Author: Norbert Antal\n",
    "<br>\n",
    "\n",
    "### Project description\n",
    "\n",
    "This project explores the PlantGrowth dataset using statistical analysis techniques, including t-tests and ANOVA, to identify significant differences between treatment groups. \n",
    "\n",
    "### Project brief\n",
    "Complete the project in a single notebook called project.ipynb in your repository. The same style should be used as detailed above: explanations in MarkDown and code comments, clean code, and regular commits. Use plots as appropriate.\n",
    "\n",
    "In this project, you will analyze the PlantGrowth R dataset. You will find a short description of it on Vicent Arel-Bundock's Rdatasets page. The dataset contains two main variables, a treatment group and the weight of plants within those groups.\n",
    "\n",
    "The aim is to perform t-tests and ANOVA on this dataset while describing the dataset and explaining your work. <br>\n",
    "\n",
    "#### Project tasks:\n",
    "\n",
    "Download and save the dataset to your repository.\n",
    "\n",
    "Describe the data set in the notebook.\n",
    "\n",
    "Describe what a t-test is, how it works, and what the assumptions are.\n",
    "\n",
    "Perform a t-test to determine whether there is a significant difference between the two treatment groups trt1 and trt2.\n",
    "\n",
    "Perform ANOVA to determine whether there is a significant difference between the three treatment groups ctrl, trt1, and trt2.\n",
    "\n",
    "Explain why it is more appropriate to apply ANOVA rather than several t-tests when analyzing more than two groups."
   ]
  },
  {
   "cell_type": "code",
   "execution_count": 86,
   "metadata": {},
   "outputs": [],
   "source": [
    "# import required modules\n",
    "import pandas as pd # dataframe operations\n",
    "import matplotlib.pyplot as plt # visualisation\n",
    "import seaborn as sns # visualisation\n",
    "from scipy import stats # statistical tests"
   ]
  },
  {
   "cell_type": "markdown",
   "metadata": {},
   "source": [
    "# 1. Acquire data\n",
    "Data downloaded and stored in the `\\data` folder. "
   ]
  },
  {
   "cell_type": "markdown",
   "metadata": {},
   "source": [
    "## 1.1 Introduction of data\n",
    "The dataset used in this project was provided by the lecturer, with the original source available on Vincent Arel-Bundock's Rdatasets page on GitHub [1].\n",
    "\n",
    "The `PlantGrowth` dataset comes from an experiment designed to compare plant yields, measured as dried weights, obtained under a control and two different treatment conditions. It includes a control group (`ctrl`) and two treatment groups (`trt1` and `trt2`). The dataset contains 30 observations with two variables:\n",
    "- **weight (numeric):** The dried weight of plants.\n",
    "- **group (factor):** The experimental group (control or treatment).\n",
    "\n",
    "This dataset forms the basis for investigating the effects of treatment conditions on plant growth. It was originally sourced in Dobson's *An Introduction to Statistical Modelling* (1983) [2].\n",
    "\n",
    "###### [1]: Github.io. (2024). R: Results from an Experiment on Plant Growth. [online] Available at: https://vincentarelbundock.github.io/Rdatasets/doc/datasets/PlantGrowth.html.<br>[2] Dobson, A.J., 2013. Introduction to statistical modelling. Springer."
   ]
  },
  {
   "cell_type": "markdown",
   "metadata": {},
   "source": [
    "## 1.2 Data Cleaning and Summary Analysis"
   ]
  },
  {
   "cell_type": "code",
   "execution_count": 87,
   "metadata": {},
   "outputs": [
    {
     "name": "stdout",
     "output_type": "stream",
     "text": [
      "rownames      int64\n",
      "weight      float64\n",
      "group        object\n",
      "dtype: object\n"
     ]
    }
   ],
   "source": [
    "# Read in data to dataframe\n",
    "df = pd.read_csv(\"data/plantgrowth.csv\")\n",
    "#df.head()\n",
    "print(df.dtypes)"
   ]
  },
  {
   "cell_type": "markdown",
   "metadata": {},
   "source": [
    "The dataset contains 30 observations with the following columns:\n",
    "\n",
    "- **weight** (`float64`): Represents dried plant weights.\n",
    "- **group** (`object`): Categorical variable indicating the experimental group (`ctrl`, `trt1`, `trt2`).\n",
    "\n",
    "The `rownames` column (`int64`) serves as a row identifier and can be dropped as it does not hold analytical value.\n"
   ]
  },
  {
   "cell_type": "code",
   "execution_count": null,
   "metadata": {},
   "outputs": [
    {
     "name": "stdout",
     "output_type": "stream",
     "text": [
      "   weight group\n",
      "0    4.17  ctrl\n",
      "1    5.58  ctrl\n",
      "2    5.18  ctrl\n",
      "3    6.11  ctrl\n",
      "4    4.50  ctrl\n"
     ]
    },
    {
     "data": {
      "text/html": [
       "<div>\n",
       "<style scoped>\n",
       "    .dataframe tbody tr th:only-of-type {\n",
       "        vertical-align: middle;\n",
       "    }\n",
       "\n",
       "    .dataframe tbody tr th {\n",
       "        vertical-align: top;\n",
       "    }\n",
       "\n",
       "    .dataframe thead th {\n",
       "        text-align: right;\n",
       "    }\n",
       "</style>\n",
       "<table border=\"1\" class=\"dataframe\">\n",
       "  <thead>\n",
       "    <tr style=\"text-align: right;\">\n",
       "      <th></th>\n",
       "      <th>weight</th>\n",
       "    </tr>\n",
       "  </thead>\n",
       "  <tbody>\n",
       "    <tr>\n",
       "      <th>count</th>\n",
       "      <td>30.000000</td>\n",
       "    </tr>\n",
       "    <tr>\n",
       "      <th>mean</th>\n",
       "      <td>5.073000</td>\n",
       "    </tr>\n",
       "    <tr>\n",
       "      <th>std</th>\n",
       "      <td>0.701192</td>\n",
       "    </tr>\n",
       "    <tr>\n",
       "      <th>min</th>\n",
       "      <td>3.590000</td>\n",
       "    </tr>\n",
       "    <tr>\n",
       "      <th>25%</th>\n",
       "      <td>4.550000</td>\n",
       "    </tr>\n",
       "    <tr>\n",
       "      <th>50%</th>\n",
       "      <td>5.155000</td>\n",
       "    </tr>\n",
       "    <tr>\n",
       "      <th>75%</th>\n",
       "      <td>5.530000</td>\n",
       "    </tr>\n",
       "    <tr>\n",
       "      <th>max</th>\n",
       "      <td>6.310000</td>\n",
       "    </tr>\n",
       "  </tbody>\n",
       "</table>\n",
       "</div>"
      ],
      "text/plain": [
       "          weight\n",
       "count  30.000000\n",
       "mean    5.073000\n",
       "std     0.701192\n",
       "min     3.590000\n",
       "25%     4.550000\n",
       "50%     5.155000\n",
       "75%     5.530000\n",
       "max     6.310000"
      ]
     },
     "execution_count": 88,
     "metadata": {},
     "output_type": "execute_result"
    }
   ],
   "source": [
    "# drop irrelevant rownames column\n",
    "df.drop(columns=['rownames'], inplace=True)\n",
    "# Summary statistics\n",
    "print(df.head())\n",
    "df.describe()"
   ]
  },
  {
   "cell_type": "markdown",
   "metadata": {},
   "source": [
    "The dataframe created from `PlantGrowth` dataset contains 30 observations with the following columns:\n",
    "- **weight** (`float64`): Dried plant weights with:\n",
    "  - **Mean:** 5.073, **Std Dev:** 0.701  \n",
    "  - **Range:** 3.59 to 6.31  \n",
    "  - **Median:** 5.155, **IQR:** 4.55–5.53\n",
    "- **group** (`object`): Categorical variable for the groupnames\n",
    "\n",
    "Summary statistics by groups may be relevant"
   ]
  },
  {
   "cell_type": "code",
   "execution_count": null,
   "metadata": {},
   "outputs": [
    {
     "data": {
      "text/html": [
       "<div>\n",
       "<style scoped>\n",
       "    .dataframe tbody tr th:only-of-type {\n",
       "        vertical-align: middle;\n",
       "    }\n",
       "\n",
       "    .dataframe tbody tr th {\n",
       "        vertical-align: top;\n",
       "    }\n",
       "\n",
       "    .dataframe thead tr th {\n",
       "        text-align: left;\n",
       "    }\n",
       "\n",
       "    .dataframe thead tr:last-of-type th {\n",
       "        text-align: right;\n",
       "    }\n",
       "</style>\n",
       "<table border=\"1\" class=\"dataframe\">\n",
       "  <thead>\n",
       "    <tr>\n",
       "      <th></th>\n",
       "      <th colspan=\"8\" halign=\"left\">weight</th>\n",
       "    </tr>\n",
       "    <tr>\n",
       "      <th></th>\n",
       "      <th>count</th>\n",
       "      <th>mean</th>\n",
       "      <th>std</th>\n",
       "      <th>min</th>\n",
       "      <th>25%</th>\n",
       "      <th>50%</th>\n",
       "      <th>75%</th>\n",
       "      <th>max</th>\n",
       "    </tr>\n",
       "    <tr>\n",
       "      <th>group</th>\n",
       "      <th></th>\n",
       "      <th></th>\n",
       "      <th></th>\n",
       "      <th></th>\n",
       "      <th></th>\n",
       "      <th></th>\n",
       "      <th></th>\n",
       "      <th></th>\n",
       "    </tr>\n",
       "  </thead>\n",
       "  <tbody>\n",
       "    <tr>\n",
       "      <th>ctrl</th>\n",
       "      <td>10.0</td>\n",
       "      <td>5.032</td>\n",
       "      <td>0.583091</td>\n",
       "      <td>4.17</td>\n",
       "      <td>4.5500</td>\n",
       "      <td>5.155</td>\n",
       "      <td>5.2925</td>\n",
       "      <td>6.11</td>\n",
       "    </tr>\n",
       "    <tr>\n",
       "      <th>trt1</th>\n",
       "      <td>10.0</td>\n",
       "      <td>4.661</td>\n",
       "      <td>0.793676</td>\n",
       "      <td>3.59</td>\n",
       "      <td>4.2075</td>\n",
       "      <td>4.550</td>\n",
       "      <td>4.8700</td>\n",
       "      <td>6.03</td>\n",
       "    </tr>\n",
       "    <tr>\n",
       "      <th>trt2</th>\n",
       "      <td>10.0</td>\n",
       "      <td>5.526</td>\n",
       "      <td>0.442573</td>\n",
       "      <td>4.92</td>\n",
       "      <td>5.2675</td>\n",
       "      <td>5.435</td>\n",
       "      <td>5.7350</td>\n",
       "      <td>6.31</td>\n",
       "    </tr>\n",
       "  </tbody>\n",
       "</table>\n",
       "</div>"
      ],
      "text/plain": [
       "      weight                                                    \n",
       "       count   mean       std   min     25%    50%     75%   max\n",
       "group                                                           \n",
       "ctrl    10.0  5.032  0.583091  4.17  4.5500  5.155  5.2925  6.11\n",
       "trt1    10.0  4.661  0.793676  3.59  4.2075  4.550  4.8700  6.03\n",
       "trt2    10.0  5.526  0.442573  4.92  5.2675  5.435  5.7350  6.31"
      ]
     },
     "execution_count": 89,
     "metadata": {},
     "output_type": "execute_result"
    }
   ],
   "source": [
    "#Summary statistics by group\n",
    "df.groupby('group').describe()"
   ]
  },
  {
   "cell_type": "markdown",
   "metadata": {},
   "source": [
    "Each group (`ctrl`, `trt1`, `trt2`) has 10 observations of plant weights;\n",
    "\n",
    "- **ctrl**: Mean = 5.03, Std Dev = 0.58, Range = 4.17–6.11  \n",
    "- **trt1**: Mean = 4.66, Std Dev = 0.79, Range = 3.59–6.03  \n",
    "- **trt2**: Mean = 5.53, Std Dev = 0.44, Range = 4.92–6.31  \n",
    "\n",
    "Key differences are observed in mean weights and variability among groups.\n"
   ]
  },
  {
   "cell_type": "code",
   "execution_count": 90,
   "metadata": {},
   "outputs": [
    {
     "data": {
      "image/png": "[encoded data removed]",
      "text/plain": [
       "<Figure size 640x480 with 4 Axes>"
      ]
     },
     "metadata": {},
     "output_type": "display_data"
    }
   ],
   "source": [
    "# visualise data by groups with histogram ref: https://www.statology.org/pandas-histogram-by-group/\n",
    "df['weight'].hist(by=df['group'])\n",
    "plt.show()"
   ]
  },
  {
   "cell_type": "code",
   "execution_count": 91,
   "metadata": {},
   "outputs": [
    {
     "data": {
      "image/png": "[encoded data removed]",
      "text/plain": [
       "<Figure size 511.111x500 with 1 Axes>"
      ]
     },
     "metadata": {},
     "output_type": "display_data"
    }
   ],
   "source": [
    "# visualise data by groups with boxplot and catplot ref: https://www.statology.org/pandas-histogram-by-group/\n",
    "sns.catplot(data=df, x='group', y=df.columns[0], color=\"red\")\n",
    "sns.boxplot(data=df, x='group', y=df.columns[0], color=\"green\")\n",
    "plt.show()"
   ]
  },
  {
   "cell_type": "markdown",
   "metadata": {},
   "source": [
    "\n",
    "The grouped histogram visualisation of the `weight` variable is inconclusive regarding the spread of the data due to the small sample size. However, the box and scatterplots indicate clear distinction between the groups."
   ]
  },
  {
   "cell_type": "markdown",
   "metadata": {},
   "source": [
    "### Describe what a t-test is, how it works, and what the assumptions are.\n",
    "\n",
    " A t-test is a statistical test to determine if there is a significant difference between two samples by testing whether the means of the two samples are significantly different or not. It was originally developed by William Sealy Gosset at the Guinness Brewing Company to measure the consistent quality of stout.<br>\n",
    " The test compares the means of two groups, calculates a t-statistic to assess if the null hypothesis (no difference) holds, and uses the resulting p-value to determine statistical significance against a chosen threshold (commonly; 0.05).[1]<br>\n",
    " Assumptions for t-test include the measured values in ratio scale or interval scale, simple random extraction, homogeneity of variance, appropriate sample size, and normal distribution of data.[2]<br>\n",
    " \n",
    " There are three main types of t-test:\n",
    "+ An Independent Samples t-test compares the means for two separate groups.\n",
    "+ A Paired sample t-test compares means from the same group at different times or different conditions.\n",
    "+ A One sample t-test tests the mean of a single group against a known mean.[3]\n",
    "\n",
    "In the case of the `PlantGrowth` dataset, an Independent Samples t-test is the most appropriate as the data is collected from different plants with different treatments applied. In python, scipy's `ttest_ind()` function is a commonly used for Independent Smaples t-test. This is a test for the null hypothesis that 2 independent samples have identical average (expected) values. This test assumes that the populations have identical variances by default.[4]\n",
    "\n",
    " ###### [1]: Maverick, J.B. (2021). What assumptions are made when conducting a t-test? [online] Investopedia. Available at: https://www.investopedia.com/ask/answers/073115/what-assumptions-are-made-when-conducting-ttest.asp.<br>[2]: Kim, T.K. and Park, J.H. (2019). More about the basic assumptions of t-test: normality and sample size. Korean Journal of Anesthesiology, [online] 72(4), pp.331–335. doi:https://doi.org/10.4097/kja.d.18.00292.<br>[3]: Glen, S. (2022). Independent Samples T Test: Definition, Excel & SPSS Steps. [online] Statistics How To. Available at: https://www.statisticshowto.com/probability-and-statistics/t-distribution/independent-samples-t-test/.[4]: docs.scipy.org. (n.d.). scipy.stats.ttest_ind — SciPy v1.4.1 Reference Guide. [online] Available at: https://docs.scipy.org/doc/scipy/reference/generated/scipy.stats.ttest_ind.html."
   ]
  },
  {
   "cell_type": "markdown",
   "metadata": {},
   "source": [
    "As the t-test assumes that the data consists of measured values on a ratio scale and is normally distributed, it is important to verify these assumptions. Previously, `weight`, as the only measured ratio variable in the dataset, was visualised with histograms. However, due to the small sample size, the histogram did not provide a definitive indication, so a statistical method is required instead. The Shapiro-Wilk test is used to determine whether a dataset is normally distributed. In it, the null hypothesis states that the data follows a normal distribution. If the p-value is less than the chosen significance level (typically 0.05), the null hypothesis is rejected, indicating that the data is not normally distributed. [1]<br>\n",
    "As the aim is to compare groups `trt1` and `trt2`, the Shapiro test will have to be done separately for each group as well.\n",
    "\n",
    "###### [1]: Shapiro–Wilk test, Wikipedia, ref: https://en.wikipedia.org/wiki/Shapiro%E2%80%93Wilk_test"
   ]
  },
  {
   "cell_type": "code",
   "execution_count": 92,
   "metadata": {},
   "outputs": [
    {
     "name": "stdout",
     "output_type": "stream",
     "text": [
      "Group ctrl:, ShapiroResult(statistic=0.9566815495491028, pvalue=0.7474744915962219)\n",
      "Group trt1:, ShapiroResult(statistic=0.9304108619689941, pvalue=0.451945960521698)\n",
      "Group trt2:, ShapiroResult(statistic=0.941005289554596, pvalue=0.5642533898353577)\n"
     ]
    }
   ],
   "source": [
    "# Check normal distribution with Shapiro-Wilk test\n",
    "groups = df['group'].unique()  # Get group names\n",
    "# Carry out shapiro test for each group\n",
    "for group in groups:\n",
    "    group_data = df[df['group'] == group]['weight']\n",
    "    shapiro = stats.shapiro(group_data)\n",
    "    print(f\"Group {group}:, {shapiro}\")"
   ]
  },
  {
   "cell_type": "markdown",
   "metadata": {},
   "source": [
    "The null hypothesis of the Shapiro-Wilk test states that the data is normally distributed. For all three groups (`ctrl`, `trt1`, `trt2`), the p-values are well above 0.05. Therefore, we fail to reject the null hypothesis, indicating that the `weight` variable for each group can be considered normally distributed. This satisfies the normality assumption required for conducting a t-test."
   ]
  },
  {
   "cell_type": "markdown",
   "metadata": {},
   "source": [
    "\n",
    "### Perform a t-test to determine whether there is a significant difference between the two treatment groups trt1 and trt2"
   ]
  },
  {
   "cell_type": "code",
   "execution_count": 93,
   "metadata": {},
   "outputs": [
    {
     "name": "stdout",
     "output_type": "stream",
     "text": [
      "TtestResult(statistic=-3.0100985421243616, pvalue=0.0075184261182198574, df=18.0)\n"
     ]
    }
   ],
   "source": [
    "# Independent t-test on patient data using scipy.stats\n",
    "from scipy.stats import ttest_ind # scipy for t-test\n",
    "# Perform independent sample t-test for trt1 and trt2 groups using scipy t-test\n",
    "result = ttest_ind(df[df['group'] == 'trt1']['weight'],df[df['group'] == 'trt2']['weight']) #for independent t-test scipy uses ttest_ind()\n",
    "#output result\n",
    "print(result)"
   ]
  },
  {
   "cell_type": "markdown",
   "metadata": {},
   "source": [
    "#### Output Analysis:\n",
    "- The `t-statistic` of -3.01 indicates that the mean of `trt1` is significantly lower (hence the negative value) than the mean of `trt2`.\n",
    "- The `p-value` of 0.0075 is much lower than the commonly used threshold for statistical significance (0.05), likely rejecting of the null hypothesis that there is no difference between the group means.\n",
    "- The `df` (degrees of freedom) of 18 indicates the total sample size used in this t-test.\n",
    "\n",
    "##### The results of the t-test suggest that the treatments associated with `trt1` and `trt2` likely had different effects on plant weight, with the weight for `trt1` being significantly lower than that for `trt2`. This finding is supported by the boxplot and scatterplot visualisations.\n"
   ]
  },
  {
   "cell_type": "markdown",
   "metadata": {},
   "source": [
    "# -------------------------------------------------------------"
   ]
  },
  {
   "cell_type": "markdown",
   "metadata": {},
   "source": [
    "Perform ANOVA to determine whether there is a significant difference between the three treatment groups ctrl, trt1, and trt2.\n",
    "\n",
    "Explain why it is more appropriate to apply ANOVA rather than several t-tests when analyzing more than two groups."
   ]
  }
 ],
 "metadata": {
  "kernelspec": {
   "display_name": "base",
   "language": "python",
   "name": "python3"
  },
  "language_info": {
   "codemirror_mode": {
    "name": "ipython",
    "version": 3
   },
   "file_extension": ".py",
   "mimetype": "text/x-python",
   "name": "python",
   "nbconvert_exporter": "python",
   "pygments_lexer": "ipython3",
   "version": "3.9.18"
  }
 },
 "nbformat": 4,
 "nbformat_minor": 2
}
