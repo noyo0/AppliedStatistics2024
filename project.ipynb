{
 "cells": [
  {
   "cell_type": "markdown",
   "metadata": {},
   "source": [
    "# Project\n",
    "\n",
    "Author: Norbert Antal\n",
    "<br>\n",
    "\n",
    "### Project description\n",
    "\n",
    "This project explores the PlantGrowth dataset using statistical analysis techniques, including t-tests and ANOVA, to identify significant differences between treatment groups. \n",
    "\n",
    "### Project brief\n",
    "*Complete the project in a single notebook called project.ipynb in your repository. The same style should be used as detailed above: explanations in MarkDown and code comments, clean code, and regular commits. Use plots as appropriate.*\n",
    "\n",
    "*In this project, you will analyze the PlantGrowth R dataset. You will find a short description of it on Vicent Arel-Bundock's Rdatasets page. The dataset contains two main variables, a treatment group and the weight of plants within those groups.*\n",
    "\n",
    "*The aim is to perform t-tests and ANOVA on this dataset while describing the dataset and explaining your work.* <br>\n",
    "\n",
    "#### Project tasks:\n",
    "\n",
    "- Download and save the dataset to your repository.\n",
    "- Describe the data set in the notebook.\n",
    "- Describe what a t-test is, how it works, and what the assumptions are.\n",
    "- Perform a t-test to determine whether there is a significant difference between the two treatment groups trt1 and trt2.\n",
    "- Perform ANOVA to determine whether there is a significant difference between the three treatment groups ctrl, trt1, and trt2.\n",
    "- Explain why it is more appropriate to apply ANOVA rather than several t-tests when analyzing more than two groups."
   ]
  },
  {
   "cell_type": "code",
   "execution_count": 1,
   "metadata": {},
   "outputs": [],
   "source": [
    "# import required modules\n",
    "import pandas as pd # dataframe operations\n",
    "import matplotlib.pyplot as plt # visualisation\n",
    "import seaborn as sns # visualisation\n",
    "from scipy import stats # statistical tests"
   ]
  },
  {
   "cell_type": "markdown",
   "metadata": {},
   "source": [
    "# 1. Acquire data\n",
    "Data downloaded and stored in the `\\data` folder. "
   ]
  },
  {
   "cell_type": "markdown",
   "metadata": {},
   "source": [
    "## 1.1 Introduction of data\n",
    "The dataset used in this project was provided by the lecturer, with the original source available on Vincent Arel-Bundock's Rdatasets page on GitHub [1].\n",
    "\n",
    "The `PlantGrowth` dataset comes from an experiment designed to compare plant yields, measured as dried weights, obtained under a control and two different treatment conditions. It includes a control group (`ctrl`) and two treatment groups (`trt1` and `trt2`). The dataset contains 30 observations with two variables:\n",
    "- **weight:** The dried weight of plants.\n",
    "- **group:** The experimental group (control or treatment).\n",
    "\n",
    "This dataset forms the basis for investigating the effects of treatment conditions on plant growth. It was originally sourced in Dobson's *An Introduction to Statistical Modelling* (1983) [2]."
   ]
  },
  {
   "cell_type": "markdown",
   "metadata": {},
   "source": [
    "# 2. Data Preparation, Cleaning and Analysis"
   ]
  },
  {
   "cell_type": "code",
   "execution_count": 2,
   "metadata": {},
   "outputs": [
    {
     "name": "stdout",
     "output_type": "stream",
     "text": [
      "rownames      int64\n",
      "weight      float64\n",
      "group        object\n",
      "dtype: object\n"
     ]
    }
   ],
   "source": [
    "# Read in data to pandas dataframe\n",
    "df = pd.read_csv(\"data/plantgrowth.csv\")\n",
    "#df.head()\n",
    "print(df.dtypes)"
   ]
  },
  {
   "cell_type": "markdown",
   "metadata": {},
   "source": [
    "The original CSV file is read into pandas dataframe. Pandas is a powerful library for working with structured data in Python allowing to manipulate, analyze, and visualize the data.[3]\n",
    "\n",
    "The created dataframe has three variables.\n",
    "\n",
    "- `weight` (float64): numerical variable\n",
    "- `group` (object): Categorical variable\n",
    "\n",
    "The `rownames` column (int64) serves as a row identifier and can be dropped as it does not hold analytical value."
   ]
  },
  {
   "cell_type": "code",
   "execution_count": 3,
   "metadata": {},
   "outputs": [],
   "source": [
    "# drop irrelevant rownames column\n",
    "df.drop(columns=['rownames'], inplace=True)"
   ]
  },
  {
   "cell_type": "markdown",
   "metadata": {},
   "source": [
    "## 2.1 Summary Analysis"
   ]
  },
  {
   "cell_type": "code",
   "execution_count": 4,
   "metadata": {},
   "outputs": [
    {
     "name": "stdout",
     "output_type": "stream",
     "text": [
      "   weight group\n",
      "0    4.17  ctrl\n",
      "1    5.58  ctrl\n",
      "2    5.18  ctrl\n",
      "3    6.11  ctrl\n",
      "4    4.50  ctrl\n"
     ]
    },
    {
     "data": {
      "text/html": [
       "<div>\n",
       "<style scoped>\n",
       "    .dataframe tbody tr th:only-of-type {\n",
       "        vertical-align: middle;\n",
       "    }\n",
       "\n",
       "    .dataframe tbody tr th {\n",
       "        vertical-align: top;\n",
       "    }\n",
       "\n",
       "    .dataframe thead th {\n",
       "        text-align: right;\n",
       "    }\n",
       "</style>\n",
       "<table border=\"1\" class=\"dataframe\">\n",
       "  <thead>\n",
       "    <tr style=\"text-align: right;\">\n",
       "      <th></th>\n",
       "      <th>weight</th>\n",
       "    </tr>\n",
       "  </thead>\n",
       "  <tbody>\n",
       "    <tr>\n",
       "      <th>count</th>\n",
       "      <td>30.000000</td>\n",
       "    </tr>\n",
       "    <tr>\n",
       "      <th>mean</th>\n",
       "      <td>5.073000</td>\n",
       "    </tr>\n",
       "    <tr>\n",
       "      <th>std</th>\n",
       "      <td>0.701192</td>\n",
       "    </tr>\n",
       "    <tr>\n",
       "      <th>min</th>\n",
       "      <td>3.590000</td>\n",
       "    </tr>\n",
       "    <tr>\n",
       "      <th>25%</th>\n",
       "      <td>4.550000</td>\n",
       "    </tr>\n",
       "    <tr>\n",
       "      <th>50%</th>\n",
       "      <td>5.155000</td>\n",
       "    </tr>\n",
       "    <tr>\n",
       "      <th>75%</th>\n",
       "      <td>5.530000</td>\n",
       "    </tr>\n",
       "    <tr>\n",
       "      <th>max</th>\n",
       "      <td>6.310000</td>\n",
       "    </tr>\n",
       "  </tbody>\n",
       "</table>\n",
       "</div>"
      ],
      "text/plain": [
       "          weight\n",
       "count  30.000000\n",
       "mean    5.073000\n",
       "std     0.701192\n",
       "min     3.590000\n",
       "25%     4.550000\n",
       "50%     5.155000\n",
       "75%     5.530000\n",
       "max     6.310000"
      ]
     },
     "execution_count": 4,
     "metadata": {},
     "output_type": "execute_result"
    }
   ],
   "source": [
    "# Summary statistics\n",
    "print(df.head()) # review dataframe structure\n",
    "df.describe() # get summary statistics of numeric data"
   ]
  },
  {
   "cell_type": "markdown",
   "metadata": {},
   "source": [
    "The dataframe created from the PlantGrowth dataset contains 30 observations with the following columns:\n",
    "- `weight`: Dried plant weights with:\n",
    "  - **Mean:** 5.073, **Std Dev:** 0.701  \n",
    "  - **Range:** 3.59 to 6.31  \n",
    "  - **Median:** 5.155, **IQR:** 4.55–5.53\n",
    "- `group`: Categorical variable for the groupnames\n",
    "\n",
    "Summary statistics by groups may be relevant."
   ]
  },
  {
   "cell_type": "code",
   "execution_count": 36,
   "metadata": {},
   "outputs": [
    {
     "data": {
      "text/html": [
       "<div>\n",
       "<style scoped>\n",
       "    .dataframe tbody tr th:only-of-type {\n",
       "        vertical-align: middle;\n",
       "    }\n",
       "\n",
       "    .dataframe tbody tr th {\n",
       "        vertical-align: top;\n",
       "    }\n",
       "\n",
       "    .dataframe thead tr th {\n",
       "        text-align: left;\n",
       "    }\n",
       "\n",
       "    .dataframe thead tr:last-of-type th {\n",
       "        text-align: right;\n",
       "    }\n",
       "</style>\n",
       "<table border=\"1\" class=\"dataframe\">\n",
       "  <thead>\n",
       "    <tr>\n",
       "      <th></th>\n",
       "      <th colspan=\"8\" halign=\"left\">weight</th>\n",
       "    </tr>\n",
       "    <tr>\n",
       "      <th></th>\n",
       "      <th>count</th>\n",
       "      <th>mean</th>\n",
       "      <th>std</th>\n",
       "      <th>min</th>\n",
       "      <th>25%</th>\n",
       "      <th>50%</th>\n",
       "      <th>75%</th>\n",
       "      <th>max</th>\n",
       "    </tr>\n",
       "    <tr>\n",
       "      <th>group</th>\n",
       "      <th></th>\n",
       "      <th></th>\n",
       "      <th></th>\n",
       "      <th></th>\n",
       "      <th></th>\n",
       "      <th></th>\n",
       "      <th></th>\n",
       "      <th></th>\n",
       "    </tr>\n",
       "  </thead>\n",
       "  <tbody>\n",
       "    <tr>\n",
       "      <th>ctrl</th>\n",
       "      <td>10.0</td>\n",
       "      <td>5.032</td>\n",
       "      <td>0.583091</td>\n",
       "      <td>4.17</td>\n",
       "      <td>4.5500</td>\n",
       "      <td>5.155</td>\n",
       "      <td>5.2925</td>\n",
       "      <td>6.11</td>\n",
       "    </tr>\n",
       "    <tr>\n",
       "      <th>trt1</th>\n",
       "      <td>10.0</td>\n",
       "      <td>4.661</td>\n",
       "      <td>0.793676</td>\n",
       "      <td>3.59</td>\n",
       "      <td>4.2075</td>\n",
       "      <td>4.550</td>\n",
       "      <td>4.8700</td>\n",
       "      <td>6.03</td>\n",
       "    </tr>\n",
       "    <tr>\n",
       "      <th>trt2</th>\n",
       "      <td>10.0</td>\n",
       "      <td>5.526</td>\n",
       "      <td>0.442573</td>\n",
       "      <td>4.92</td>\n",
       "      <td>5.2675</td>\n",
       "      <td>5.435</td>\n",
       "      <td>5.7350</td>\n",
       "      <td>6.31</td>\n",
       "    </tr>\n",
       "  </tbody>\n",
       "</table>\n",
       "</div>"
      ],
      "text/plain": [
       "      weight                                                    \n",
       "       count   mean       std   min     25%    50%     75%   max\n",
       "group                                                           \n",
       "ctrl    10.0  5.032  0.583091  4.17  4.5500  5.155  5.2925  6.11\n",
       "trt1    10.0  4.661  0.793676  3.59  4.2075  4.550  4.8700  6.03\n",
       "trt2    10.0  5.526  0.442573  4.92  5.2675  5.435  5.7350  6.31"
      ]
     },
     "execution_count": 36,
     "metadata": {},
     "output_type": "execute_result"
    }
   ],
   "source": [
    "#Summary statistics by group\n",
    "df.groupby('group').describe() # ref: https://www.statology.org/pandas-groupby-describe/"
   ]
  },
  {
   "cell_type": "markdown",
   "metadata": {},
   "source": [
    "Each group (`ctrl`, `trt1`, `trt2`) has 10 samples of plant weights;\n",
    "\n",
    "- **ctrl**: Mean = 5.03, Std = 0.58, Range = 4.17–6.11  \n",
    "- **trt1**: Mean = 4.66, Std = 0.79, Range = 3.59–6.03  \n",
    "- **trt2**: Mean = 5.53, Std = 0.44, Range = 4.92–6.31  \n",
    "\n",
    "There are key differences in mean weights and variability (std) among groups.\n",
    "<br> Visualising the data may reveal specific characteristics of the groups."
   ]
  },
  {
   "cell_type": "markdown",
   "metadata": {},
   "source": [
    "## 2.2 Data Visualisation\n",
    "\n",
    "To explore the distribution and group-wise differences in the `weight` variable of the *PlantGrowth* dataset, a combination of visualisation techniques was employed using *matplotlib.ppyplot* and *seaborn* visualisations.<br>Matplotlib and Seaborn are both versatile Python libraries used for creating static, interactive, and animated visualizations in a wide range of formats.[4],[5] <br>A grouped histogram highlights the data spread by groups, while a combined box plot and scatter plot provides visual clues regarding differences and individual data points within each group."
   ]
  },
  {
   "cell_type": "code",
   "execution_count": 6,
   "metadata": {},
   "outputs": [
    {
     "data": {
      "image/png": "[encoded data removed]",
      "text/plain": [
       "<Figure size 640x480 with 4 Axes>"
      ]
     },
     "metadata": {},
     "output_type": "display_data"
    }
   ],
   "source": [
    "# visualise data by groups with histogram ref: https://www.statology.org/pandas-histogram-by-group/\n",
    "df['weight'].hist(by=df['group'])\n",
    "plt.show()"
   ]
  },
  {
   "cell_type": "code",
   "execution_count": 7,
   "metadata": {},
   "outputs": [
    {
     "data": {
      "image/png": "[encoded data removed]",
      "text/plain": [
       "<Figure size 511.111x500 with 1 Axes>"
      ]
     },
     "metadata": {},
     "output_type": "display_data"
    }
   ],
   "source": [
    "# visualise data by groups with boxplot and catplot ref: https://www.statology.org/pandas-histogram-by-group/\n",
    "sns.catplot(data=df, x='group', y=df.columns[0], color=\"red\")\n",
    "sns.boxplot(data=df, x='group', y=df.columns[0], color=\"green\")\n",
    "plt.title(\"Data distribution by groups\")\n",
    "plt.show()"
   ]
  },
  {
   "cell_type": "markdown",
   "metadata": {},
   "source": [
    "### Visualisation Analysis\n",
    "The grouped histogram of the `weight` variable is inconclusive regarding data spread due to the small sample size. However, the box and scatterplots reveal a clear distinction between groups, especially between `trt1` and `trt2`, which show evident separation."
   ]
  },
  {
   "cell_type": "markdown",
   "metadata": {},
   "source": [
    "# 3. Description of t-test, how it works, and what the assumptions are.\n",
    "\n",
    " A t-Test is a statistical test to determine if there is a significant difference between two samples by testing whether the means of the two samples are significantly different or not. It was originally developed by William Sealy Gosset at the Guinness Brewing Company to measure the consistent quality of stout.<br>\n",
    " The test compares the means of two groups, calculates a t-statistic to assess if the null hypothesis holds ($H_0$: There is no significant difference between the means of the samples.), and uses the resulting p-value to determine statistical significance against a chosen threshold (commonly; $ \\alpha = 0.05 $).[6]<br>\n",
    " Assumptions for t-test include; the measured values are in ratio scale or interval scale, simple random extraction, homogeneity of variance, appropriate sample size, and normal distribution of data.[7]<br>\n",
    " \n",
    " There are three main types of t-test:\n",
    "+ An Independent Samples t-test compares the means for two separate groups.\n",
    "+ A Paired sample t-test compares means from the same group at different times or different conditions.\n",
    "+ A One sample t-test tests the mean of a single group against a known mean.[8]\n",
    "\n",
    "In the case of the *PlantGrowth* dataset, an Independent Samples t-test is the most appropriate as the data is collected from different plants with different treatments applied. \n",
    "\n",
    "In python, scipy's `scipy.stats.ttest_ind()` function is commonly used for Independent Smaples t-test. This is a test for the null hypothesis that 2 independent samples have identical average (expected) values. This test assumes that the populations have identical variances by default.[9]<br>\n",
    "SciPy is a Python library that extends NumPy, providing advanced tools for scientific computing, including optimization, integration, signal processing, and statistical analysis.[10]"
   ]
  },
  {
   "cell_type": "markdown",
   "metadata": {},
   "source": [
    "## 3.1 Verifying t-Test Assumptions\n",
    "\n",
    "The t-test assumes that the data consists of measured values on a ratio scale and follows a normal distribution. It is necessary to verify these assumptions before proceeding. From previous analysis, we know that `weight` is the only measured ratio variable in the dataset, and it has the appropriate data type. However, due to the small sample size, the histogram was inconclusive regarding its normal distribution, therefore a statistical test will be utilised to verify.\n",
    "\n",
    "The **Shapiro-Wilk test** is a standard method to verify normal distribution. The null hypothesis of this test states that the data follows a normal distribution. If the p-value from the test result is less than the chosen significance level (commonly 0.05), the null hypothesis is rejected, suggesting that the data is not normally distributed. [11]  <br>\n",
    "In python, scipy's `scipy.stats.shapiro()` is the most popular function to carry out the Shapiro-Wilk test.[12]\n",
    "\n",
    "Since the goal is to compare the `trt1` and `trt2` groups, the Shapiro-Wilk test will be applied separately to each group.\n"
   ]
  },
  {
   "cell_type": "code",
   "execution_count": 8,
   "metadata": {},
   "outputs": [
    {
     "name": "stdout",
     "output_type": "stream",
     "text": [
      "Group ctrl:, ShapiroResult(statistic=0.9566815495491028, pvalue=0.7474744915962219)\n",
      "Group trt1:, ShapiroResult(statistic=0.9304108619689941, pvalue=0.451945960521698)\n",
      "Group trt2:, ShapiroResult(statistic=0.941005289554596, pvalue=0.5642533898353577)\n"
     ]
    }
   ],
   "source": [
    "# Check normal distribution with Shapiro-Wilk test\n",
    "groups = df['group'].unique()  # Get group names\n",
    "# Carry out shapiro test for each group\n",
    "for group in groups:\n",
    "    group_data = df[df['group'] == group]['weight']\n",
    "    shapiro = stats.shapiro(group_data)\n",
    "    print(f\"Group {group}:, {shapiro}\")"
   ]
  },
  {
   "cell_type": "markdown",
   "metadata": {},
   "source": [
    "The null hypothesis of the Shapiro-Wilk test states that the data is normally distributed. For all three groups (`ctrl`, `trt1`, `trt2`), the p-values are well above 0.05. Therefore, we fail to reject the null hypothesis, indicating that the `weight` variable for each group can be considered normally distributed. This satisfies the normality assumption required for conducting a t-test."
   ]
  },
  {
   "cell_type": "markdown",
   "metadata": {},
   "source": [
    "## 3.2 Perform a t-Test to determine whether there is a significant difference between the two treatment groups trt1 and trt2"
   ]
  },
  {
   "cell_type": "code",
   "execution_count": null,
   "metadata": {},
   "outputs": [
    {
     "name": "stdout",
     "output_type": "stream",
     "text": [
      "TtestResult(statistic=-3.0100985421243616, pvalue=0.0075184261182198574, df=18.0)\n"
     ]
    }
   ],
   "source": [
    "# Perform independent sample t-test for trt1 and trt2 groups using scipy t-test\n",
    "result = stats.ttest_ind(df[df['group'] == 'trt1']['weight'],df[df['group'] == 'trt2']['weight']) #for independent t-test scipy uses ttest_ind()\n",
    "#output result\n",
    "print(result)\n",
    "\n",
    "#ttest_rel ref: https://docs.scipy.org/doc/scipy/reference/generated/scipy.stats.ttest_rel.html"
   ]
  },
  {
   "cell_type": "markdown",
   "metadata": {},
   "source": [
    "### 3.2.1 Output Analysis:\n",
    "- The `t-statistic` of -3.01 indicates that the mean of `trt1` is significantly lower (hence the negative value) than the mean of `trt2`.\n",
    "- The `p-value` of 0.0075 is much lower than the commonly used threshold for statistical significance (0.05), thus rejecting of the null hypothesis that there is no difference between the group means.\n",
    "- The `df` (degrees of freedom) of 18 indicates the total sample size used in this t-test.\n",
    "\n",
    ">`The results of the t-test suggest that the treatments used in `trt1` and `trt2` samples, likely had statistically significant effects on plant weight, with the weight for `trt1` being significantly lower than that for `trt2`. This finding is supported by the combined boxplot and scatterplot visualisations in the *Data Visualisation* section ([2.2](##22-data-visualisation)).`\n"
   ]
  },
  {
   "cell_type": "markdown",
   "metadata": {},
   "source": [
    "# 4. ANOVA\n",
    "\n",
    "###### Perform ANOVA to determine whether there is a significant difference between the three treatment groups ctrl, trt1, and trt2.<br>Explain why it is more appropriate to apply ANOVA rather than several t-tests when analyzing more than two groups."
   ]
  },
  {
   "cell_type": "markdown",
   "metadata": {},
   "source": [
    "ANOVA (Analysis of Variance, introduced by Ronald Fisher) is a statistical technique for evaluating differences among group means in a sample. It is especially practical to compare multiple groups simultaneously, addressing the limitations of tests like t-tests.<br>\n",
    "\n",
    "There are different types of ANOVA:\n",
    "+ One-way ANOVA: for one independent variable\n",
    "+ Two-way ANOVA: for two independent variables\n",
    "+ N-way ANOVA: for multiple factors<br>\n",
    "\n",
    "ANOVA works by comparing the variance within groups to the variance between groups. The output is an F-statistic, p-value and df or degree of freedom. <br> \n",
    "$$[F = \\frac{\\text{between-group variability}}{\\text{within-group variability}}]$$\n",
    "The F-statistic compares the variability between group means to the variability within groups. In a one-way ANOVA, it is calculated as the ratio of variances, from squared deviations, reflecting differences between group means. A higher F-value suggests greater differences among group means and may lead to rejecting the null hypothesis of equal means if it exceeds a critical probability (usually $(\\alpha = 0.05 )$) threshold. The p-value indicates whether the F-statistic is statistically significant or likely due to random chance.[13]\n",
    "<br>The result of the F-test is determined by comparing the calculated F-value to the critical F-value from an F-Table, based on a chosen significance level (usually p < 0.05) and degrees of freedom, which depend on the sample size and the number of groups being compared.[14]"
   ]
  },
  {
   "cell_type": "markdown",
   "metadata": {},
   "source": [
    "## 4.1 Carry out ANOVA statistical test\n",
    "\n",
    "In Python, the `scipy.stats` library is a popular tool for performing statistical tests such as ANOVA. When using **`scipy.stats.f_oneway()`** for one-way ANOVA, the function directly calculates both the **F-statistic** and the **p-value**, so there's no need to manually use an F Table.[15]"
   ]
  },
  {
   "cell_type": "code",
   "execution_count": 11,
   "metadata": {},
   "outputs": [
    {
     "name": "stdout",
     "output_type": "stream",
     "text": [
      "ANOVA results \n",
      "f-statistics: 4.846087862380136\n",
      "p-value:0.0159099583256229\n"
     ]
    }
   ],
   "source": [
    "# Separate the groups (ref: lecture notes 05_anova.ipynb)\n",
    "ctrl = df[df['group'] == 'ctrl']['weight']\n",
    "trt1 = df[df['group'] == 'trt1']['weight']\n",
    "trt2 = df[df['group'] == 'trt2']['weight']\n",
    "\n",
    "# carry out ANOVA and print results\n",
    "f,p = stats.f_oneway(ctrl,trt1,trt2)\n",
    "print(f\"ANOVA results \\nf-statistics: {f}\\np-value:{p}\")"
   ]
  },
  {
   "cell_type": "markdown",
   "metadata": {},
   "source": [
    "### 4.1.1 ANOVA output analysis\n",
    "\n",
    "The F-statistic of 4.846 and the p-value of 0.0159 indicate a statistically significant difference among the means of the three groups (ctrl, trt1, and trt2) at the $ \\alpha = 0.05 $ significance level. Since $ p < 0.05 $, we may reject the null hypothesis, which states that all group means are equal, and conclude that at least one group mean differs significantly.\n"
   ]
  },
  {
   "cell_type": "markdown",
   "metadata": {},
   "source": [
    "### 4.2 Type I and Type II statistical errors\n",
    "\n",
    "In statistical hypothesis testing, a Type I error (false positive) occurs when the null hypothesis is rejected despite being true, while a Type II error (false negative) happens when the null hypothesis is not rejected even though it is actually false.[16]<br>"
   ]
  },
  {
   "cell_type": "markdown",
   "metadata": {},
   "source": [
    "#### 4.2.1 Type I error, Post-hoc test - Tukey's HSD\n",
    "\n",
    "Tukey's Honest Significant Difference (Tukey's HSD) is a post-hoc (follow-up) test to identify which specific group means differ significantly while controlling for Type I errors. It is commonly used as a follow up to one-way ANOVA to assess the significance of differences between pairs of group means.[17] SciPy Stats uses the `tukey_hsd()` function to perform Tukey’s HSD test for equality of means over multiple treatments. Tukey’s HSD performs pairwise comparison of means for a set of samples. Whereas ANOVA (e.g. f_oneway) assesses whether the true means underlying each sample are identical, Tukey’s HSD is a test to compare the mean of each sample to the mean of each other sample. [18] Making it an excellent tool for identifying which groups are the most distant from each other."
   ]
  },
  {
   "cell_type": "code",
   "execution_count": 12,
   "metadata": {},
   "outputs": [
    {
     "name": "stdout",
     "output_type": "stream",
     "text": [
      "Tukey's HSD Pairwise Group Comparisons (95.0% Confidence Interval)\n",
      "Comparison  Statistic  p-value  Lower CI  Upper CI\n",
      " (0 - 1)      0.371     0.391    -0.320     1.062\n",
      " (0 - 2)     -0.494     0.198    -1.185     0.197\n",
      " (1 - 0)     -0.371     0.391    -1.062     0.320\n",
      " (1 - 2)     -0.865     0.012    -1.556    -0.174\n",
      " (2 - 0)      0.494     0.198    -0.197     1.185\n",
      " (2 - 1)      0.865     0.012     0.174     1.556\n",
      "\n"
     ]
    }
   ],
   "source": [
    "#Tukey's HSD (Honestly Significant Difference)\n",
    "res=stats.tukey_hsd(ctrl,trt1,trt2)\n",
    "print(res)\n",
    "# if any of the comparison's p value is under 0.05 it indicates significant difference for that pairwise comparison"
   ]
  },
  {
   "cell_type": "markdown",
   "metadata": {},
   "source": [
    "##### 4.2.1.1 Tukey's HSD Results\n",
    "\n",
    "Each row in the table represents a comparison between two group means *(0=ctrl, 1=trt1, 2=trt2)*. The columns provide the mean difference, standard error, lower and upper bounds of the confidence interval, and the p-value. The p-value indicates the likelihood that the observed mean difference occurred by chance. If the p-value is below the chosen significance level (typically 0.05), the means are considered significantly different.[19] <br>\n",
    "A confidence interval is a range of values that is likely to contain a population parameter with a certain level of confidence. Therefore if a confidence interval contains zero there is strong evidence that the difference between the two population means is not significant. A Type I error would occur if a comparison showed a significant p-value (< 0.05) while the confidence interval still included zero.[20] \n",
    "\n",
    ">`In line with the previous t-test, the comparison between groups (1 - 2) (trt1 and trt2) shows the largest mean difference of -0.865, with a p-value of 0.012 (< 0.05). This indicates a statistically significant difference in their means. For all other comparisons, the p-values are greater than 0.05, and their confidence intervals include 0. This indicates that there are no false positives, meaning Type I errors are ruled out.`"
   ]
  },
  {
   "cell_type": "markdown",
   "metadata": {},
   "source": [
    "#### 4.2.3 Type II error and power of test analysis\n",
    "\n",
    "The rate of the type II error (β-beta) is related to the power of a test, which equals 1−β.[21]\n",
    "Statistical power is a critical concept in hypothesis testing that measures the ability of a test to detect a true effect when one exists. It is defined as the probability of correctly rejecting a false null hypothesis, in other words, the likelihood of avoiding a Type II (false negative) error. \n",
    "The power of a test is influenced by several factors, including: sample size, effect size, significance level, and within-group variability.[22]"
   ]
  },
  {
   "cell_type": "code",
   "execution_count": 25,
   "metadata": {},
   "outputs": [
    {
     "data": {
      "text/html": [
       "<div>\n",
       "<style scoped>\n",
       "    .dataframe tbody tr th:only-of-type {\n",
       "        vertical-align: middle;\n",
       "    }\n",
       "\n",
       "    .dataframe tbody tr th {\n",
       "        vertical-align: top;\n",
       "    }\n",
       "\n",
       "    .dataframe thead tr th {\n",
       "        text-align: left;\n",
       "    }\n",
       "\n",
       "    .dataframe thead tr:last-of-type th {\n",
       "        text-align: right;\n",
       "    }\n",
       "</style>\n",
       "<table border=\"1\" class=\"dataframe\">\n",
       "  <thead>\n",
       "    <tr>\n",
       "      <th></th>\n",
       "      <th colspan=\"8\" halign=\"left\">weight</th>\n",
       "    </tr>\n",
       "    <tr>\n",
       "      <th></th>\n",
       "      <th>count</th>\n",
       "      <th>mean</th>\n",
       "      <th>std</th>\n",
       "      <th>min</th>\n",
       "      <th>25%</th>\n",
       "      <th>50%</th>\n",
       "      <th>75%</th>\n",
       "      <th>max</th>\n",
       "    </tr>\n",
       "    <tr>\n",
       "      <th>group</th>\n",
       "      <th></th>\n",
       "      <th></th>\n",
       "      <th></th>\n",
       "      <th></th>\n",
       "      <th></th>\n",
       "      <th></th>\n",
       "      <th></th>\n",
       "      <th></th>\n",
       "    </tr>\n",
       "  </thead>\n",
       "  <tbody>\n",
       "    <tr>\n",
       "      <th>ctrl</th>\n",
       "      <td>10.0</td>\n",
       "      <td>5.032</td>\n",
       "      <td>0.583091</td>\n",
       "      <td>4.17</td>\n",
       "      <td>4.5500</td>\n",
       "      <td>5.155</td>\n",
       "      <td>5.2925</td>\n",
       "      <td>6.11</td>\n",
       "    </tr>\n",
       "    <tr>\n",
       "      <th>trt1</th>\n",
       "      <td>10.0</td>\n",
       "      <td>4.661</td>\n",
       "      <td>0.793676</td>\n",
       "      <td>3.59</td>\n",
       "      <td>4.2075</td>\n",
       "      <td>4.550</td>\n",
       "      <td>4.8700</td>\n",
       "      <td>6.03</td>\n",
       "    </tr>\n",
       "    <tr>\n",
       "      <th>trt2</th>\n",
       "      <td>10.0</td>\n",
       "      <td>5.526</td>\n",
       "      <td>0.442573</td>\n",
       "      <td>4.92</td>\n",
       "      <td>5.2675</td>\n",
       "      <td>5.435</td>\n",
       "      <td>5.7350</td>\n",
       "      <td>6.31</td>\n",
       "    </tr>\n",
       "  </tbody>\n",
       "</table>\n",
       "</div>"
      ],
      "text/plain": [
       "      weight                                                    \n",
       "       count   mean       std   min     25%    50%     75%   max\n",
       "group                                                           \n",
       "ctrl    10.0  5.032  0.583091  4.17  4.5500  5.155  5.2925  6.11\n",
       "trt1    10.0  4.661  0.793676  3.59  4.2075  4.550  4.8700  6.03\n",
       "trt2    10.0  5.526  0.442573  4.92  5.2675  5.435  5.7350  6.31"
      ]
     },
     "execution_count": 25,
     "metadata": {},
     "output_type": "execute_result"
    }
   ],
   "source": [
    "# review summary stats\n",
    "df.groupby('group').describe() "
   ]
  },
  {
   "cell_type": "markdown",
   "metadata": {},
   "source": [
    "The likelihood of correctly rejecting the null hypothesis (at least one group mean differs) increases with:\n",
    "+ Larger Sample Sizes: With only 10 observations per group, the sample size is relatively small, which may limit the test's power to detect differences.\n",
    "+ Distinct Group Means: The group means are 5.032 (ctrl), 4.661 (trt1), and 5.526 (trt2). The difference between trt1 and trt2 is notable, while the other differences are not significant.\n",
    "+ Low Within-Group Variability: Standard deviations are 0.583 (ctrl), 0.794 (trt1), and 0.443 (trt2), indicating moderate variability within groups.\n",
    "[22]\n",
    "\n",
    "Given these factors, especially the sample size, the current data may not allow for high statistical power, increasing the risk of Type II errors (failing to detect true differences).\n",
    "\n",
    "A more suitable approach for assessing Type II errors is Statistical Power Analysis. This analysis involves four interrelated variables: Effect Size, Significance Level (α), Power (1−β), and Sample Size. Adjusting one variable impacts the others. In practice, power analysis calculates the unknown variable when the other three are specified. <br>In Python, the `statsmodels` package offers the `stats.power` module, which provides functions for conducting power analysis for the most commonly used statistical tests. [23]\n"
   ]
  },
  {
   "cell_type": "code",
   "execution_count": null,
   "metadata": {},
   "outputs": [
    {
     "name": "stdout",
     "output_type": "stream",
     "text": [
      "Effect size (Cohen's d): 0.5327478273956501\n",
      "Sample size/Number needed in each group: 56.285\n"
     ]
    }
   ],
   "source": [
    "# Code adapted from : https://www.geeksforgeeks.org/introduction-to-power-analysis-in-python/\n",
    "\n",
    "# Power analysis - Calculate effect size\n",
    "\n",
    "from math import sqrt\n",
    "from statsmodels.stats.power import TTestIndPower\n",
    "\n",
    "# mean, standard deviation and sample size from summary statistics.\n",
    "ctrl_mean, ctrl_std, ctrl_n = 5.032, 0.583091, 10\n",
    "trt1_mean, trt1_std, trt1_n = 4.661, 0.793676, 10\n",
    "\n",
    "# calculated variance of samples\n",
    "s1, s2 = ctrl_std**2, trt1_std**2\n",
    "\n",
    "# calculated the pooled standard deviation\n",
    "n1, n2 = ctrl_n, trt1_n\n",
    "pooled_std = sqrt(((n1 - 1) * s1 + (n2 - 1) * s2) / (n1 + n2 - 2))\n",
    "\n",
    "# calculate the effect size\n",
    "effect_size = (ctrl_mean - trt1_mean) / pooled_std\n",
    "print(f\"Effect size (Cohen's d): {effect_size}\")\n",
    "\n",
    "# perform power analysis to find required sample size\n",
    "alpha = 0.05  # Significance level (5% risk of rejecting the null hypothesis when it's actually true)\n",
    "power = 0.8   # Desired power (80% chance of correctly rejecting a false null hypothesis.)\n",
    "\n",
    "# Initialize power analysis object\n",
    "obj = TTestIndPower()\n",
    "\n",
    "# Calculate the required sample size for each group\n",
    "n = obj.solve_power(effect_size=effect_size, alpha=alpha, power=power, ratio=1, alternative='two-sided')\n",
    "print('Sample size/Number needed in each group: {:.3f}'.format(n))\n"
   ]
  },
  {
   "cell_type": "markdown",
   "metadata": {},
   "source": [
    "To detect a significant effect with an effect size (Cohen's d) of 0.533, approximately 57 samples per group are recommended. Conducting a t-test with smaller samples may yield non-significant p-values despite a substantial effect, primarily due to insufficient sample size."
   ]
  },
  {
   "cell_type": "markdown",
   "metadata": {},
   "source": [
    "# 5. Project conclusion\n",
    "\n",
    "This project analyzed the \"PlantGrowth\" dataset to demonstrate statistical testing in the evaluation process of the effects of two treatments on plant weight compared to a control group. Data cleaning ensured accuracy and consistency. Visualizations with histograms and box plots, provided insights into weight distributions across sample groups with the boxplots indicating notable difference between `trt1` and `trt1`. Pairwise t-tests compared the two groups, revealing that the treatments associated with `trt1` and `trt2` likely had different effects on plant weight, with `trt1` sample weights being significantly lower than `trt2`. A one-way ANOVA revealed that the differences among group means is statistically significant. A subsequent Tukey's HSD test identified groupwise differences, controlling for Type I errors. This test also found that the only statistically significant difference is between `trt1` and `trt2` further supporting the findings of the t-test and the visualisations. The analysis controlled for Type I errors through Tukey's HSD test. However, the power analysis revealed that with only 10 samples per group, the study is exposed to a higher risk of Type II errors. Power analysis indicated that approximately 57 samples per group are needed to achieve adequate power. Therefore, increasing the sample size is recommended to enhance the reliability of the findings."
   ]
  },
  {
   "cell_type": "markdown",
   "metadata": {},
   "source": [
    "# References\n",
    "\n",
    "- [1]: Github.io. (2024). R: Results from an Experiment on Plant Growth. [online] Available at: https://vincentarelbundock.github.io/Rdatasets/doc/datasets/PlantGrowth.html.\n",
    "- [2] Dobson, A.J., 2013. Introduction to statistical modelling. Springer. \n",
    "- [3] McKinney, W. & others, 2010. Data structures for statistical computing in python. In Proceedings of the 9th Python in Science Conference. pp. 51–56.\n",
    "- [4] Hunter, J.D., 2007. Matplotlib: A 2D graphics environment. Computing in science &amp; engineering, 9(3), pp.90–95.\n",
    "- [5]: Waskom, M. et al., 2017. mwaskom/seaborn: v0.8.1 (September 2017), Zenodo. Available at: https://doi.org/10.5281/zenodo.883859.\n",
    "- [6]: Maverick, J.B. (2021). What assumptions are made when conducting a t-test? [online] Investopedia. Available at: https://www.investopedia.com/ask/answers/073115/what-assumptions-are-made-when-conducting-ttest.asp.\n",
    "- [7]: Kim, T.K. and Park, J.H. (2019). More about the basic assumptions of t-test: normality and sample size. Korean Journal of Anesthesiology, [online] 72(4), pp.331–335. doi:https://doi.org/10.4097/kja.d.18.00292.\n",
    "- [8]: Glen, S. (2022). Independent Samples T Test: Definition, Excel & SPSS Steps. [online] Statistics How To. Available at: https://www.statisticshowto.com/probability-and-statistics/t-distribution/independent-samples-t-test/.\n",
    "- [9]: Scipy.org. (2011). scipy.stats.ttest_ind — SciPy v1.4.1 Reference Guide. [online] Available at: https://docs.scipy.org/doc/scipy/reference/generated/scipy.stats.ttest_ind.html.*\n",
    "- [10]: Virtanen, P. et al., 2020. SciPy 1.0: Fundamental Algorithms for Scientific Computing in Python. Nature Methods, 17, pp.261–272.\n",
    "- [11]: Wikipedia Contributors (2019). Shapiro–Wilk test. [online] Wikipedia. Available at: https://en.wikipedia.org/wiki/Shapiro%E2%80%93Wilk_test.\n",
    "- [12]: Scipy.org. (2011). scipy.stats.shapiro — SciPy v1.3.0 Reference Guide. [online] Available at: https://docs.scipy.org/doc/scipy/reference/generated/scipy.stats.shapiro.html.\n",
    "- [13]Wikipedia Contributors (2019). Analysis of variance. [online] Wikipedia. Available at: https://en.wikipedia.org/wiki/Analysis_of_variance.\n",
    "- [14]: Wikipedia Contributors (2019). F-test. [online] Wikipedia. Available at: https://en.wikipedia.org/wiki/F-test.\n",
    "- [15]: Scipy.org. (2014). scipy.stats.f_oneway — SciPy v1.3.1 Reference Guide. [online] Available at: https://docs.scipy.org/doc/scipy/reference/generated/scipy.stats.f_oneway.html.\n",
    "- [16]: Wikipedia (2021). Type I and type II errors. [online] Wikipedia. Available at: https://en.wikipedia.org/wiki/Type_I_and_type_II_errors.\n",
    "- [17]: BioStats. (n.d.). Post Hoc Tests – Tukey HSD – bioST@TS. [online] Available at: https://biostats.w.uib.no/post-hoc-tests-tukey-hsd/.\n",
    "- [18]: docs.scipy.org. (n.d.). scipy.stats.tukey_hsd — SciPy v1.11.1 Manual. [online] Available at: https://docs.scipy.org/doc/scipy/reference/generated/scipy.stats.tukey_hsd.html.\n",
    "- [19]: FasterCapital. (n.d.). Tukey s HSD: Post Hoc Analysis after ANOVA. [online] Available at: https://fastercapital.com/content/Tukey-s-HSD--Post-Hoc-Analysis-after-ANOVA.html.\n",
    "- [20]: Zach (2021). How to Interpret a Confidence Interval that Contains Zero. [online] Statology. Available at: https://www.statology.org/confidence-interval-contains-zero/.\n",
    "- [21]:Wikipedia (2021). Type I and type II errors. [online] Wikipedia. Available at: https://en.wikipedia.org/wiki/Type_I_and_type_II_errors.\n",
    "- [22]: AI (2014). The Science of Machine Learning & AI. [online] The Science of Machine Learning & AI. Available at: https://www.ml-science.com/statistical-power-of-a-test<br>\n",
    "- [23]: GeeksforGeeks (2021). Introduction to Power Analysis in Python. [online] GeeksforGeeks. Available at: https://www.geeksforgeeks.org/introduction-to-power-analysis-in-python/ [Accessed 10 Dec. 2024].\n"
   ]
  }
 ],
 "metadata": {
  "kernelspec": {
   "display_name": "base",
   "language": "python",
   "name": "python3"
  },
  "language_info": {
   "codemirror_mode": {
    "name": "ipython",
    "version": 3
   },
   "file_extension": ".py",
   "mimetype": "text/x-python",
   "name": "python",
   "nbconvert_exporter": "python",
   "pygments_lexer": "ipython3",
   "version": "3.9.18"
  }
 },
 "nbformat": 4,
 "nbformat_minor": 2
}
