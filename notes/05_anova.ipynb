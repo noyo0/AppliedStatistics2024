{
 "cells": [
  {
   "cell_type": "markdown",
   "metadata": {},
   "source": [
    "# ANOVA"
   ]
  },
  {
   "cell_type": "markdown",
   "metadata": {},
   "source": [
    "### ANOVA (Analysis of Variance)\n",
    "\n",
    "**Purpose**: Compares the means of three or more groups to determine if at least one group differs significantly.\n",
    "\n",
    "#### Key Points:\n",
    "- **Null Hypothesis (H₀)**: All group means are equal.\n",
    "- **Alternative Hypothesis (H₁)**: At least one group mean is different.\n",
    "- **F-Statistic**: Measures variance between groups relative to variance within groups.\n",
    "- **P-Value**: Indicates the probability of observing the data if H₀ is true.\n",
    "\n",
    "#### Decision:\n",
    "- If **p-value < 0.05**, reject H₀ (significant differences exist).\n",
    "- If **p-value ≥ 0.05**, fail to reject H₀ (no significant differences).\n",
    "\n",
    "#### Example Use Cases:\n",
    "- Testing the effectiveness of different treatments.\n",
    "- Comparing performance across multiple groups.\n",
    "\n",
    "\n",
    "##### `TLDR:` **t-test:** Compares the means of *two groups*. **ANOVA:** Compares the means of *three or more groups*."
   ]
  },
  {
   "cell_type": "markdown",
   "metadata": {},
   "source": [
    ">Similar to t-test, teherei is paired and unpaired ANOVA:\n",
    "\n",
    "### Types of ANOVA\n",
    "\n",
    "1. **Paired ANOVA (Repeated Measures ANOVA)**:\n",
    "   - Used when the **same subjects** are measured under different conditions.\n",
    "   - Accounts for the correlation between repeated measurements.\n",
    "   - Example: Testing the same group of patients before, during, and after treatment.\n",
    "\n",
    "2. **Unpaired ANOVA (One-Way ANOVA)**:\n",
    "   - Used when comparing **independent groups**.\n",
    "   - Assumes no relationship between the groups.\n",
    "   - Example: Comparing test scores of students from three different schools.\n"
   ]
  },
  {
   "cell_type": "code",
   "execution_count": 101,
   "metadata": {},
   "outputs": [],
   "source": [
    "# Numerical arrays.\n",
    "import numpy as np\n",
    "\n",
    "# Plotting.\n",
    "import matplotlib.pyplot as plt\n",
    "\n",
    "# Statistical functions.\n",
    "import scipy.stats as stats\n",
    "\n",
    "# Mathematical functions.\n",
    "import math\n",
    "\n",
    "# Import Pandas\n",
    "import pandas as pd"
   ]
  },
  {
   "cell_type": "markdown",
   "metadata": {},
   "source": [
    "## More Samples"
   ]
  },
  {
   "cell_type": "code",
   "execution_count": 102,
   "metadata": {},
   "outputs": [],
   "source": [
    "# First sample.\n",
    "sample_a = np.random.normal(loc=10.0, scale=1.0, size=50)\n",
    "\n",
    "# Second sample.\n",
    "sample_b = np.random.normal(loc=10.0, scale=1.0, size=50)\n",
    "\n",
    "# Third sample.\n",
    "sample_c = np.random.normal(loc=10.0, scale=1.0, size=50)"
   ]
  },
  {
   "cell_type": "code",
   "execution_count": 103,
   "metadata": {},
   "outputs": [
    {
     "data": {
      "image/png": "[encoded data removed]",
      "text/plain": [
       "<Figure size 1000x500 with 1 Axes>"
      ]
     },
     "metadata": {},
     "output_type": "display_data"
    }
   ],
   "source": [
    "# Create histograms.\n",
    "fig, ax = plt.subplots(figsize=(10, 5))\n",
    "\n",
    "# Histogram of the first sample.\n",
    "ax.hist(sample_a, bins=10, alpha=0.5, label='Sample A')\n",
    "\n",
    "# Histogram of the second sample.\n",
    "ax.hist(sample_b, bins=10, alpha=0.5, label='Sample B')\n",
    "\n",
    "# Histogram of the third sample.\n",
    "ax.hist(sample_c, bins=10, alpha=0.5, label='Sample C')\n",
    "\n",
    "# Add a legend.\n",
    "ax.legend();"
   ]
  },
  {
   "cell_type": "markdown",
   "metadata": {},
   "source": [
    "### Comparing groups manually"
   ]
  },
  {
   "cell_type": "code",
   "execution_count": 104,
   "metadata": {},
   "outputs": [
    {
     "data": {
      "text/plain": [
       "(1.3173012329851874, 0.19080932951409396)"
      ]
     },
     "execution_count": 104,
     "metadata": {},
     "output_type": "execute_result"
    }
   ],
   "source": [
    "# Independent samples t-test on sample_a and sample_b.\n",
    "t_statistic, p_value = stats.ttest_ind(sample_a, sample_b)\n",
    "\n",
    "# Show.\n",
    "t_statistic, p_value"
   ]
  },
  {
   "cell_type": "code",
   "execution_count": 105,
   "metadata": {},
   "outputs": [
    {
     "data": {
      "text/plain": [
       "(-1.3173012329851874, 0.19080932951409396)"
      ]
     },
     "execution_count": 105,
     "metadata": {},
     "output_type": "execute_result"
    }
   ],
   "source": [
    "# Independent samples t-test on sample_b and sample_a.\n",
    "t_statistic, p_value = stats.ttest_ind(sample_b, sample_a)\n",
    "\n",
    "# Show.\n",
    "t_statistic, p_value"
   ]
  },
  {
   "cell_type": "code",
   "execution_count": 106,
   "metadata": {},
   "outputs": [
    {
     "data": {
      "text/plain": [
       "(1.1105028214955748, 0.26949972309139736)"
      ]
     },
     "execution_count": 106,
     "metadata": {},
     "output_type": "execute_result"
    }
   ],
   "source": [
    "# Independent samples t-test on sample_a and sample_c.\n",
    "t_statistic, p_value = stats.ttest_ind(sample_a, sample_c)\n",
    "\n",
    "# Show.\n",
    "t_statistic, p_value"
   ]
  },
  {
   "cell_type": "code",
   "execution_count": 107,
   "metadata": {},
   "outputs": [
    {
     "data": {
      "text/plain": [
       "(-0.13228332766299147, 0.8950314162630271)"
      ]
     },
     "execution_count": 107,
     "metadata": {},
     "output_type": "execute_result"
    }
   ],
   "source": [
    "# Independent samples t-test on sample_b and sample_c.\n",
    "t_statistic, p_value = stats.ttest_ind(sample_b, sample_c)\n",
    "\n",
    "# Show.\n",
    "t_statistic, p_value"
   ]
  },
  {
   "cell_type": "markdown",
   "metadata": {},
   "source": [
    "##### t-test Output analysis from manual comparison.\n",
    "+ A vs B: Significant difference (t = -2.34, p = 0.021).\n",
    "+ B vs A: Significant difference (t = 2.34, p = 0.021).\n",
    "+ A vs C: No significant difference (t = -1.37, p = 0.174).\n",
    "+ B vs C: No significant difference (t = 0.70, p = 0.483).\n",
    "\n",
    ">*Manually comparing multiple groups using multiple t-tests is not ideal.* <br>**ANOVA is preferred because it:**<br> - Reduces the risk of Type I errors (false positives) that increase with multiple t-tests.<br>- Analyzes all group differences simultaneously.\n"
   ]
  },
  {
   "cell_type": "markdown",
   "metadata": {},
   "source": [
    "## $n$ Samples"
   ]
  },
  {
   "cell_type": "code",
   "execution_count": 108,
   "metadata": {},
   "outputs": [],
   "source": [
    "# Number of samples.\n",
    "n = 4"
   ]
  },
  {
   "cell_type": "code",
   "execution_count": 109,
   "metadata": {},
   "outputs": [
    {
     "name": "stdout",
     "output_type": "stream",
     "text": [
      "[0, 1, 2, 3]\n"
     ]
    }
   ],
   "source": [
    "# Show the sample labels.\n",
    "print(list(range(4)))"
   ]
  },
  {
   "cell_type": "markdown",
   "metadata": {},
   "source": [
    "For 4 samples, we can perform 6 t-tests:\n",
    "\n",
    "[0, 1]  \n",
    "[0, 2]  \n",
    "[0, 3]  \n",
    "[1, 2]  \n",
    "[1, 3]  \n",
    "[2, 3]  "
   ]
  },
  {
   "cell_type": "code",
   "execution_count": 110,
   "metadata": {},
   "outputs": [
    {
     "data": {
      "text/plain": [
       "6"
      ]
     },
     "execution_count": 110,
     "metadata": {},
     "output_type": "execute_result"
    }
   ],
   "source": [
    "# Number of ways (combinations) of selecting two samples from n.\n",
    "math.comb(n, 2)"
   ]
  },
  {
   "cell_type": "code",
   "execution_count": 111,
   "metadata": {},
   "outputs": [
    {
     "data": {
      "text/plain": [
       "15"
      ]
     },
     "execution_count": 111,
     "metadata": {},
     "output_type": "execute_result"
    }
   ],
   "source": [
    "# Suppose we had 6 samples.\n",
    "n = 6\n",
    "math.comb(n, 2) # calculate number of combinations"
   ]
  },
  {
   "cell_type": "code",
   "execution_count": 112,
   "metadata": {},
   "outputs": [
    {
     "data": {
      "text/plain": [
       "21"
      ]
     },
     "execution_count": 112,
     "metadata": {},
     "output_type": "execute_result"
    }
   ],
   "source": [
    "# Suppose we had 6 samples.\n",
    "n = 7\n",
    "math.comb(n, 2)"
   ]
  },
  {
   "cell_type": "markdown",
   "metadata": {},
   "source": [
    "## Type I Errors\n",
    "\n",
    "A **Type I error** occurs when the null hypothesis is incorrectly rejected (claiming falsly that significant differences exist between group means when they do not).\n",
    "\n",
    "#### Causes:\n",
    "- **High alpha level**: Using a significance level (α) that's too high (e.g., 0.1 instead of 0.05).\n",
    "- **Multiple comparisons**: Increased likelihood of Type I errors when comparing multiple groups.\n",
    "\n",
    "#### Mitigation:\n",
    "- Use a **lower alpha level** (e.g., 0.01) for stricter significance testing.\n",
    "- Apply **post hoc tests** with corrections (e.g., Bonferroni, Tukey's HSD) to control for the family-wise error rate.\n"
   ]
  },
  {
   "cell_type": "markdown",
   "metadata": {},
   "source": [
    "### Type II Error in ANOVA\n",
    "\n",
    "Occurs when you fail to reject the null hypothesis despite significant differences existing (false negative).\n",
    "\n",
    "#### Causes:\n",
    "- Small sample size.\n",
    "- High within-group variability.\n",
    "- Small effect size.\n",
    "- Low significance level (α).\n",
    "\n",
    "#### Mitigation:\n",
    "- Increase sample size.\n",
    "- Reduce variability.\n",
    "- Use α = 0.05 for balance.\n",
    "- Ensure sufficient statistical power.\n"
   ]
  },
  {
   "cell_type": "code",
   "execution_count": null,
   "metadata": {},
   "outputs": [],
   "source": [
    "# simulate random t-test\n",
    "def simulate_ttest(alpha=0.05):\n",
    "    # Geneate a random sample a.\n",
    "    sample_a = np.random.normal(loc=10.0, scale=1.0, size=50)\n",
    "    # Generate similar sample b.\n",
    "    sample_b = np.random.normal(loc=10.0, scale=1.0, size=50)\n",
    "    \n",
    "    # Perform the t-test.\n",
    "    _, p_value = stats.ttest_ind(sample_a, sample_b)\n",
    "    \n",
    "    # Decide whether to reject the null hypothesis.\n",
    "    if p_value < alpha:\n",
    "        return True\n",
    "    else:\n",
    "        return False"
   ]
  },
  {
   "cell_type": "code",
   "execution_count": null,
   "metadata": {},
   "outputs": [
    {
     "data": {
      "text/plain": [
       "487"
      ]
     },
     "execution_count": 114,
     "metadata": {},
     "output_type": "execute_result"
    }
   ],
   "source": [
    "# Simulate Type I. error rate\n",
    "# Number of rejections.\n",
    "no_rejections = 0\n",
    "\n",
    "# Run several simulations.\n",
    "for _ in range(10000): #run 10000 simulations\n",
    "    # Check if the null hypothesis is rejected.\n",
    "    if simulate_ttest():\n",
    "        # Increment the number of rejections.\n",
    "        no_rejections += 1\n",
    "\n",
    "# Show the number of rejections.\n",
    "no_rejections"
   ]
  },
  {
   "cell_type": "markdown",
   "metadata": {},
   "source": [
    "Above function simulates the Type I error rate (false positives) under repeated tests with random data, assuming the null hypothesis is true. For an alpha of 0.05, the result should approximate 5% of 10,000 (about 500 rejections)."
   ]
  },
  {
   "cell_type": "markdown",
   "metadata": {},
   "source": [
    "## ANOVA example from SPSS\n",
    "https://statistics.laerd.com/spss-tutorials/one-way-anova-using-spss-statistics-2.php\n"
   ]
  },
  {
   "cell_type": "code",
   "execution_count": 115,
   "metadata": {},
   "outputs": [],
   "source": [
    "#From Laerd\n",
    "beginner = np.random.normal(27.2, 3.04777, 10)\n",
    "intermediate = np.random.normal(23.6, 3.30656, 10)\n",
    "advanced = np.random.normal(23.4,3.23866,10)"
   ]
  },
  {
   "cell_type": "code",
   "execution_count": 116,
   "metadata": {},
   "outputs": [
    {
     "data": {
      "text/html": [
       "<div>\n",
       "<style scoped>\n",
       "    .dataframe tbody tr th:only-of-type {\n",
       "        vertical-align: middle;\n",
       "    }\n",
       "\n",
       "    .dataframe tbody tr th {\n",
       "        vertical-align: top;\n",
       "    }\n",
       "\n",
       "    .dataframe thead th {\n",
       "        text-align: right;\n",
       "    }\n",
       "</style>\n",
       "<table border=\"1\" class=\"dataframe\">\n",
       "  <thead>\n",
       "    <tr style=\"text-align: right;\">\n",
       "      <th></th>\n",
       "      <th>Beginner</th>\n",
       "      <th>Intermediate</th>\n",
       "      <th>Advanced</th>\n",
       "    </tr>\n",
       "  </thead>\n",
       "  <tbody>\n",
       "    <tr>\n",
       "      <th>0</th>\n",
       "      <td>31.513144</td>\n",
       "      <td>25.637253</td>\n",
       "      <td>17.754617</td>\n",
       "    </tr>\n",
       "    <tr>\n",
       "      <th>1</th>\n",
       "      <td>23.095648</td>\n",
       "      <td>22.512776</td>\n",
       "      <td>19.163116</td>\n",
       "    </tr>\n",
       "    <tr>\n",
       "      <th>2</th>\n",
       "      <td>27.107637</td>\n",
       "      <td>21.977176</td>\n",
       "      <td>21.202580</td>\n",
       "    </tr>\n",
       "    <tr>\n",
       "      <th>3</th>\n",
       "      <td>28.271780</td>\n",
       "      <td>21.180383</td>\n",
       "      <td>22.985063</td>\n",
       "    </tr>\n",
       "    <tr>\n",
       "      <th>4</th>\n",
       "      <td>27.633622</td>\n",
       "      <td>22.123498</td>\n",
       "      <td>22.601207</td>\n",
       "    </tr>\n",
       "    <tr>\n",
       "      <th>5</th>\n",
       "      <td>30.194986</td>\n",
       "      <td>24.774150</td>\n",
       "      <td>25.199166</td>\n",
       "    </tr>\n",
       "    <tr>\n",
       "      <th>6</th>\n",
       "      <td>23.619269</td>\n",
       "      <td>22.101256</td>\n",
       "      <td>26.237652</td>\n",
       "    </tr>\n",
       "    <tr>\n",
       "      <th>7</th>\n",
       "      <td>33.847995</td>\n",
       "      <td>32.592532</td>\n",
       "      <td>28.375906</td>\n",
       "    </tr>\n",
       "    <tr>\n",
       "      <th>8</th>\n",
       "      <td>30.017588</td>\n",
       "      <td>23.928762</td>\n",
       "      <td>19.545258</td>\n",
       "    </tr>\n",
       "    <tr>\n",
       "      <th>9</th>\n",
       "      <td>24.375347</td>\n",
       "      <td>25.618990</td>\n",
       "      <td>25.164998</td>\n",
       "    </tr>\n",
       "  </tbody>\n",
       "</table>\n",
       "</div>"
      ],
      "text/plain": [
       "    Beginner  Intermediate   Advanced\n",
       "0  31.513144     25.637253  17.754617\n",
       "1  23.095648     22.512776  19.163116\n",
       "2  27.107637     21.977176  21.202580\n",
       "3  28.271780     21.180383  22.985063\n",
       "4  27.633622     22.123498  22.601207\n",
       "5  30.194986     24.774150  25.199166\n",
       "6  23.619269     22.101256  26.237652\n",
       "7  33.847995     32.592532  28.375906\n",
       "8  30.017588     23.928762  19.545258\n",
       "9  24.375347     25.618990  25.164998"
      ]
     },
     "execution_count": 116,
     "metadata": {},
     "output_type": "execute_result"
    }
   ],
   "source": [
    "# create dataframe\n",
    "df = pd.DataFrame({\"Beginner\": np.random.normal(27.2, 3.04777, 10), \"Intermediate\": np.random.normal(23.6, 3.30656, 10), \"Advanced\": np.random.normal(23.4, 3.23866, 10)})\n",
    "df"
   ]
  },
  {
   "cell_type": "code",
   "execution_count": 117,
   "metadata": {},
   "outputs": [
    {
     "data": {
      "text/html": [
       "<div>\n",
       "<style scoped>\n",
       "    .dataframe tbody tr th:only-of-type {\n",
       "        vertical-align: middle;\n",
       "    }\n",
       "\n",
       "    .dataframe tbody tr th {\n",
       "        vertical-align: top;\n",
       "    }\n",
       "\n",
       "    .dataframe thead th {\n",
       "        text-align: right;\n",
       "    }\n",
       "</style>\n",
       "<table border=\"1\" class=\"dataframe\">\n",
       "  <thead>\n",
       "    <tr style=\"text-align: right;\">\n",
       "      <th></th>\n",
       "      <th>Beginner</th>\n",
       "      <th>Intermediate</th>\n",
       "      <th>Advanced</th>\n",
       "    </tr>\n",
       "  </thead>\n",
       "  <tbody>\n",
       "    <tr>\n",
       "      <th>count</th>\n",
       "      <td>10.000000</td>\n",
       "      <td>10.000000</td>\n",
       "      <td>10.000000</td>\n",
       "    </tr>\n",
       "    <tr>\n",
       "      <th>mean</th>\n",
       "      <td>27.967702</td>\n",
       "      <td>24.244678</td>\n",
       "      <td>22.822956</td>\n",
       "    </tr>\n",
       "    <tr>\n",
       "      <th>std</th>\n",
       "      <td>3.540330</td>\n",
       "      <td>3.341979</td>\n",
       "      <td>3.434366</td>\n",
       "    </tr>\n",
       "    <tr>\n",
       "      <th>min</th>\n",
       "      <td>23.095648</td>\n",
       "      <td>21.180383</td>\n",
       "      <td>17.754617</td>\n",
       "    </tr>\n",
       "    <tr>\n",
       "      <th>25%</th>\n",
       "      <td>25.058420</td>\n",
       "      <td>22.106817</td>\n",
       "      <td>19.959588</td>\n",
       "    </tr>\n",
       "    <tr>\n",
       "      <th>50%</th>\n",
       "      <td>27.952701</td>\n",
       "      <td>23.220769</td>\n",
       "      <td>22.793135</td>\n",
       "    </tr>\n",
       "    <tr>\n",
       "      <th>75%</th>\n",
       "      <td>30.150637</td>\n",
       "      <td>25.407780</td>\n",
       "      <td>25.190624</td>\n",
       "    </tr>\n",
       "    <tr>\n",
       "      <th>max</th>\n",
       "      <td>33.847995</td>\n",
       "      <td>32.592532</td>\n",
       "      <td>28.375906</td>\n",
       "    </tr>\n",
       "  </tbody>\n",
       "</table>\n",
       "</div>"
      ],
      "text/plain": [
       "        Beginner  Intermediate   Advanced\n",
       "count  10.000000     10.000000  10.000000\n",
       "mean   27.967702     24.244678  22.822956\n",
       "std     3.540330      3.341979   3.434366\n",
       "min    23.095648     21.180383  17.754617\n",
       "25%    25.058420     22.106817  19.959588\n",
       "50%    27.952701     23.220769  22.793135\n",
       "75%    30.150637     25.407780  25.190624\n",
       "max    33.847995     32.592532  28.375906"
      ]
     },
     "execution_count": 117,
     "metadata": {},
     "output_type": "execute_result"
    }
   ],
   "source": [
    "df.describe()"
   ]
  },
  {
   "cell_type": "code",
   "execution_count": 118,
   "metadata": {},
   "outputs": [
    {
     "name": "stdout",
     "output_type": "stream",
     "text": [
      "f_statistic: 5.965272424840813, p_value: 0.00715301787820869\n"
     ]
    }
   ],
   "source": [
    "# Perform ANOVA\n",
    "f_statistic, p_value = stats.f_oneway(df['Beginner'],df['Intermediate'],df['Advanced'])\n",
    "print(f\"f_statistic: {f_statistic}, p_value: {p_value}\")"
   ]
  },
  {
   "cell_type": "markdown",
   "metadata": {},
   "source": [
    "#### Tukey's HSD (Honestly Significant Difference)\n",
    "Tukey's HSD is a post hoc test used after ANOVA to identify which specific group means differ significantly while controlling for Type I errors."
   ]
  },
  {
   "cell_type": "code",
   "execution_count": null,
   "metadata": {},
   "outputs": [
    {
     "name": "stdout",
     "output_type": "stream",
     "text": [
      "Tukey's HSD Pairwise Group Comparisons (95.0% Confidence Interval)\n",
      "Comparison  Statistic  p-value  Lower CI  Upper CI\n",
      " (0 - 1)      3.723     0.057    -0.091     7.537\n",
      " (0 - 2)      5.145     0.007     1.331     8.959\n",
      " (1 - 0)     -3.723     0.057    -7.537     0.091\n",
      " (1 - 2)      1.422     0.630    -2.392     5.236\n",
      " (2 - 0)     -5.145     0.007    -8.959    -1.331\n",
      " (2 - 1)     -1.422     0.630    -5.236     2.392\n",
      "\n"
     ]
    }
   ],
   "source": [
    "#Tukey's HSD (Honestly Significant Difference)\n",
    "res=stats.tukey_hsd(df['Beginner'],df['Intermediate'],df['Advanced'])\n",
    "print(res)\n",
    "# if any of the comparison's p value is under 0.05 it indicates significant difference for that group"
   ]
  },
  {
   "cell_type": "markdown",
   "metadata": {},
   "source": [
    "### Presenting the Data"
   ]
  },
  {
   "cell_type": "code",
   "execution_count": 125,
   "metadata": {},
   "outputs": [],
   "source": [
    "#From Laerd\n",
    "beginner = np.random.normal(27.2, 3.04777, 10)\n",
    "intermediate = np.random.normal(23.6, 3.30656, 10)\n",
    "advanced = np.random.normal(23.4,3.23866,10)\n",
    "\n",
    "data=np.concatenate([beginner,intermediate,advanced])"
   ]
  },
  {
   "cell_type": "code",
   "execution_count": 126,
   "metadata": {},
   "outputs": [],
   "source": [
    "labels = [\"Beginner\"] * 10 + [\"Intermediate\"] * 10 + [\"Advanced\"] * 10\n",
    "#labels"
   ]
  },
  {
   "cell_type": "code",
   "execution_count": 129,
   "metadata": {},
   "outputs": [
    {
     "data": {
      "text/html": [
       "<div>\n",
       "<style scoped>\n",
       "    .dataframe tbody tr th:only-of-type {\n",
       "        vertical-align: middle;\n",
       "    }\n",
       "\n",
       "    .dataframe tbody tr th {\n",
       "        vertical-align: top;\n",
       "    }\n",
       "\n",
       "    .dataframe thead th {\n",
       "        text-align: right;\n",
       "    }\n",
       "</style>\n",
       "<table border=\"1\" class=\"dataframe\">\n",
       "  <thead>\n",
       "    <tr style=\"text-align: right;\">\n",
       "      <th></th>\n",
       "      <th>Course</th>\n",
       "      <th>Time</th>\n",
       "    </tr>\n",
       "  </thead>\n",
       "  <tbody>\n",
       "    <tr>\n",
       "      <th>0</th>\n",
       "      <td>Beginner</td>\n",
       "      <td>34.401432</td>\n",
       "    </tr>\n",
       "    <tr>\n",
       "      <th>1</th>\n",
       "      <td>Beginner</td>\n",
       "      <td>28.600571</td>\n",
       "    </tr>\n",
       "    <tr>\n",
       "      <th>2</th>\n",
       "      <td>Beginner</td>\n",
       "      <td>22.431656</td>\n",
       "    </tr>\n",
       "    <tr>\n",
       "      <th>3</th>\n",
       "      <td>Beginner</td>\n",
       "      <td>30.637718</td>\n",
       "    </tr>\n",
       "    <tr>\n",
       "      <th>4</th>\n",
       "      <td>Beginner</td>\n",
       "      <td>27.095692</td>\n",
       "    </tr>\n",
       "    <tr>\n",
       "      <th>5</th>\n",
       "      <td>Beginner</td>\n",
       "      <td>32.107694</td>\n",
       "    </tr>\n",
       "    <tr>\n",
       "      <th>6</th>\n",
       "      <td>Beginner</td>\n",
       "      <td>24.833699</td>\n",
       "    </tr>\n",
       "    <tr>\n",
       "      <th>7</th>\n",
       "      <td>Beginner</td>\n",
       "      <td>33.896352</td>\n",
       "    </tr>\n",
       "    <tr>\n",
       "      <th>8</th>\n",
       "      <td>Beginner</td>\n",
       "      <td>30.521209</td>\n",
       "    </tr>\n",
       "    <tr>\n",
       "      <th>9</th>\n",
       "      <td>Beginner</td>\n",
       "      <td>28.751423</td>\n",
       "    </tr>\n",
       "    <tr>\n",
       "      <th>10</th>\n",
       "      <td>Intermediate</td>\n",
       "      <td>26.309890</td>\n",
       "    </tr>\n",
       "    <tr>\n",
       "      <th>11</th>\n",
       "      <td>Intermediate</td>\n",
       "      <td>24.633914</td>\n",
       "    </tr>\n",
       "    <tr>\n",
       "      <th>12</th>\n",
       "      <td>Intermediate</td>\n",
       "      <td>26.999362</td>\n",
       "    </tr>\n",
       "    <tr>\n",
       "      <th>13</th>\n",
       "      <td>Intermediate</td>\n",
       "      <td>22.541668</td>\n",
       "    </tr>\n",
       "    <tr>\n",
       "      <th>14</th>\n",
       "      <td>Intermediate</td>\n",
       "      <td>19.923450</td>\n",
       "    </tr>\n",
       "    <tr>\n",
       "      <th>15</th>\n",
       "      <td>Intermediate</td>\n",
       "      <td>23.220871</td>\n",
       "    </tr>\n",
       "    <tr>\n",
       "      <th>16</th>\n",
       "      <td>Intermediate</td>\n",
       "      <td>17.856495</td>\n",
       "    </tr>\n",
       "    <tr>\n",
       "      <th>17</th>\n",
       "      <td>Intermediate</td>\n",
       "      <td>22.046815</td>\n",
       "    </tr>\n",
       "    <tr>\n",
       "      <th>18</th>\n",
       "      <td>Intermediate</td>\n",
       "      <td>28.446330</td>\n",
       "    </tr>\n",
       "    <tr>\n",
       "      <th>19</th>\n",
       "      <td>Intermediate</td>\n",
       "      <td>18.369973</td>\n",
       "    </tr>\n",
       "    <tr>\n",
       "      <th>20</th>\n",
       "      <td>Advanced</td>\n",
       "      <td>26.118449</td>\n",
       "    </tr>\n",
       "    <tr>\n",
       "      <th>21</th>\n",
       "      <td>Advanced</td>\n",
       "      <td>24.319623</td>\n",
       "    </tr>\n",
       "    <tr>\n",
       "      <th>22</th>\n",
       "      <td>Advanced</td>\n",
       "      <td>24.629206</td>\n",
       "    </tr>\n",
       "    <tr>\n",
       "      <th>23</th>\n",
       "      <td>Advanced</td>\n",
       "      <td>25.417211</td>\n",
       "    </tr>\n",
       "    <tr>\n",
       "      <th>24</th>\n",
       "      <td>Advanced</td>\n",
       "      <td>22.164385</td>\n",
       "    </tr>\n",
       "    <tr>\n",
       "      <th>25</th>\n",
       "      <td>Advanced</td>\n",
       "      <td>20.942221</td>\n",
       "    </tr>\n",
       "    <tr>\n",
       "      <th>26</th>\n",
       "      <td>Advanced</td>\n",
       "      <td>22.383110</td>\n",
       "    </tr>\n",
       "    <tr>\n",
       "      <th>27</th>\n",
       "      <td>Advanced</td>\n",
       "      <td>23.555446</td>\n",
       "    </tr>\n",
       "    <tr>\n",
       "      <th>28</th>\n",
       "      <td>Advanced</td>\n",
       "      <td>24.321373</td>\n",
       "    </tr>\n",
       "    <tr>\n",
       "      <th>29</th>\n",
       "      <td>Advanced</td>\n",
       "      <td>22.751551</td>\n",
       "    </tr>\n",
       "  </tbody>\n",
       "</table>\n",
       "</div>"
      ],
      "text/plain": [
       "          Course       Time\n",
       "0       Beginner  34.401432\n",
       "1       Beginner  28.600571\n",
       "2       Beginner  22.431656\n",
       "3       Beginner  30.637718\n",
       "4       Beginner  27.095692\n",
       "5       Beginner  32.107694\n",
       "6       Beginner  24.833699\n",
       "7       Beginner  33.896352\n",
       "8       Beginner  30.521209\n",
       "9       Beginner  28.751423\n",
       "10  Intermediate  26.309890\n",
       "11  Intermediate  24.633914\n",
       "12  Intermediate  26.999362\n",
       "13  Intermediate  22.541668\n",
       "14  Intermediate  19.923450\n",
       "15  Intermediate  23.220871\n",
       "16  Intermediate  17.856495\n",
       "17  Intermediate  22.046815\n",
       "18  Intermediate  28.446330\n",
       "19  Intermediate  18.369973\n",
       "20      Advanced  26.118449\n",
       "21      Advanced  24.319623\n",
       "22      Advanced  24.629206\n",
       "23      Advanced  25.417211\n",
       "24      Advanced  22.164385\n",
       "25      Advanced  20.942221\n",
       "26      Advanced  22.383110\n",
       "27      Advanced  23.555446\n",
       "28      Advanced  24.321373\n",
       "29      Advanced  22.751551"
      ]
     },
     "execution_count": 129,
     "metadata": {},
     "output_type": "execute_result"
    }
   ],
   "source": [
    "df=pd.DataFrame({'Course':labels, 'Time':data})\n",
    "df"
   ]
  },
  {
   "cell_type": "code",
   "execution_count": null,
   "metadata": {},
   "outputs": [
    {
     "name": "stdout",
     "output_type": "stream",
     "text": [
      "11.934298448864233 0.00019334772823026558\n"
     ]
    }
   ],
   "source": [
    "# Separate the groups\n",
    "b_times = df[df['Course'] == 'Beginner']['Time']\n",
    "i_times = df[df['Course'] == 'Intermediate']['Time']\n",
    "a_times = df[df['Course'] == 'Advanced']['Time']\n",
    "\n",
    "f,p = stats.f_oneway(b_times,i_times,a_times)\n",
    "print(f,p)"
   ]
  },
  {
   "cell_type": "code",
   "execution_count": 131,
   "metadata": {},
   "outputs": [
    {
     "name": "stdout",
     "output_type": "stream",
     "text": [
      "Tukey's HSD Pairwise Group Comparisons (95.0% Confidence Interval)\n",
      "Comparison  Statistic  p-value  Lower CI  Upper CI\n",
      " (0 - 1)      6.293     0.000     2.774     9.812\n",
      " (0 - 2)      5.667     0.001     2.149     9.186\n",
      " (1 - 0)     -6.293     0.000    -9.812    -2.774\n",
      " (1 - 2)     -0.625     0.899    -4.144     2.893\n",
      " (2 - 0)     -5.667     0.001    -9.186    -2.149\n",
      " (2 - 1)      0.625     0.899    -2.893     4.144\n",
      "\n"
     ]
    }
   ],
   "source": [
    "#Tukey's HSD (Honestly Significant Difference)\n",
    "res=stats.tukey_hsd(b_times,i_times,a_times)\n",
    "print(res)"
   ]
  },
  {
   "cell_type": "markdown",
   "metadata": {},
   "source": [
    "## End"
   ]
  }
 ],
 "metadata": {
  "kernelspec": {
   "display_name": "base",
   "language": "python",
   "name": "python3"
  },
  "language_info": {
   "codemirror_mode": {
    "name": "ipython",
    "version": 3
   },
   "file_extension": ".py",
   "mimetype": "text/x-python",
   "name": "python",
   "nbconvert_exporter": "python",
   "pygments_lexer": "ipython3",
   "version": "3.9.18"
  }
 },
 "nbformat": 4,
 "nbformat_minor": 2
}
