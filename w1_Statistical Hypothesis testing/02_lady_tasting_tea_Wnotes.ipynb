{
 "cells": [
  {
   "cell_type": "markdown",
   "metadata": {},
   "source": [
    "# Lady Tasting Tea"
   ]
  },
  {
   "cell_type": "code",
   "execution_count": 4,
   "metadata": {},
   "outputs": [],
   "source": [
    "# Mathematical functions from the standard library.\n",
    "# https://docs.python.org/3/library/math.html\n",
    "import math\n",
    "# Permutations and combinations.\n",
    "# https://docs.python.org/3/library/itertools.html\n",
    "import itertools\n",
    "# Random selections.\n",
    "# https://docs.python.org/3/library/random.html\n",
    "import random\n",
    "# Numerical structures and operations.\n",
    "# https://numpy.org/doc/stable/reference/index.html#reference\n",
    "import numpy as np\n",
    "# Plotting.\n",
    "# https://matplotlib.org/stable/contents.html\n",
    "import matplotlib.pyplot as plt"
   ]
  },
  {
   "cell_type": "markdown",
   "metadata": {},
   "source": [
    "## The Design of Experiments"
   ]
  },
  {
   "cell_type": "markdown",
   "metadata": {},
   "source": [
    "> <img src=\"https://upload.wikimedia.org/wikipedia/commons/a/aa/Youngronaldfisher2.JPG\" alt=\"Alt text\" style=\"height:300px;float:right;\">\n",
    "> A lady declares that by tasting a cup of tea made with milk she can discriminate whether the milk or the tea infusion was first added to the cup. We will consider the problem of designing an experiment by means of which this assertion can be tested. For this purpose let us first lay down a simple form of experiment with a view to studying its limitations and its characteristics, both those which appear to be essential to the experimental method, when well developed, and those which are not essential but auxiliary.<br><br>\n",
    "> Our experiment consists in mixing eight cups of tea, four in one way and four in the other, and presenting them to the subject for judgment in a random order. The subject has been told in advance of what the test will consist, namely that she will be asked to taste eight cups, that these shall be four of each kind, and that they shall be presented to her in a random order, that is in an order not determined arbitrarily by human choice, but by the actual manipulation of the physical apparatus used in games of chance cards, dice, roulettes, etc., or, more expeditiously, from a published collection of random sampling numbers purporting to give the actual results of such manipulation. Her task is to divide the 8 cups into two sets of 4, agreeing, if possible, with the treatments received.<br><br>\n",
    "> <i>The Design of Experiments By Ronald A. Fisher</i>"
   ]
  },
  {
   "cell_type": "markdown",
   "metadata": {},
   "source": [
    "### <span style=\"color:red\">My Notes</span>\n",
    "\n",
    "### 1. Statistical hypothesis testing is a method to make decisions about a population based on sample data.\n",
    "\n",
    "+ Null Hypothesis (H₀): Assumes no effect or difference (e.g., a treatment has no impact).\n",
    "+ Alternative Hypothesis (H₁): Assumes there is an effect or difference.\n",
    "+ Test: Collect data and calculate a test statistic.\n",
    "+ P-Value: Measure the probability of observing the data if H₀ is true.\n",
    "+ Decision: If the p-value is low (below a threshold, usually 0.05), reject H₀ in favor of H₁.\n",
    "\n",
    "Statistical Hypothesis Testing helps determine if results are statistically significant.\n",
    "\n",
    "### 1.1 Lady tasting tea - Statistical Hypothesis testing example\n",
    "The \"Lady Tasting Tea\" experiment is a famous example of hypothesis testing in statistics, designed by Ronald Fisher. In the experiment, a lady claimed she could tell if tea or milk was added first to a cup. Fisher set up a blind test with 8 cups (4 tea-first, 4 milk-first) to test her ability.<br>\n",
    "+ Null Hypothesis (H₀): The lady cannot distinguish between tea-first and milk-first.\n",
    "+ Alternative Hypothesis (H₁): The lady can distinguish between them.\n",
    "  \n",
    "#### 1.1.1 The experiment to statistically test if her claim was genuine or just luck was conducted as follows:\n",
    "\n",
    "+ Setup: 8 cups of tea were prepared—4 had tea poured first, and 4 had milk poured first.\n",
    "+ Blind Test: The lady didn’t know which cups were prepared in which way.\n",
    "+ Task: She was asked to identify whether tea or milk was added first for each cup.\n",
    "+ Result: She had to guess correctly for all 8 cups.\n",
    "+ Analysis: Fisher compared her results to what would be expected by chance alone (hypothesis testing).\n",
    "\n",
    "\n",
    "<br>This experiment illustrates how hypothesis testing works by comparing observed results to what we’d expect under the null hypothesis."
   ]
  },
  {
   "cell_type": "markdown",
   "metadata": {},
   "source": [
    "## Permutations and Combinations\n",
    "\n",
    "### Permutations\n",
    "\n",
    "A permutation is an ordering of its elements.\n",
    "\n",
    "The set `{a, b, c}` has the permutations `abc`, `acb`, `bac`, `bca`, `cab`, and `cba`.\n",
    "\n",
    "\n",
    "### Combinations\n",
    "\n",
    "A combination is a selection of `k` elements from a set of size `n`.\n",
    "\n",
    "In combinations, order does not matter and the same element cannot be selected twice.\n",
    "\n",
    "The combinations of size 2 from the set `{a, b, c}` are `{a, b}`, `{a, c}`, and `{b, c}`."
   ]
  },
  {
   "cell_type": "markdown",
   "metadata": {},
   "source": [
    "## Cups of Tea"
   ]
  },
  {
   "cell_type": "code",
   "execution_count": 5,
   "metadata": {},
   "outputs": [],
   "source": [
    "# Number of cups of tea in total.\n",
    "no_cups = 8\n",
    "\n",
    "# Number of cups of tea with milk in first.\n",
    "no_cups_milk_first = 4\n",
    "\n",
    "# Number of cups of tea with tea in first.\n",
    "no_cups_tea_first = 4"
   ]
  },
  {
   "cell_type": "markdown",
   "metadata": {},
   "source": [
    "## math.comb(n, k)\n",
    "\n",
    "https://docs.python.org/3/library/math.html#math.comb\n",
    "\n",
    "Calculate the number of ways to choose **k** elements from a set of **n** elements where the order of the chosen elements does not matter and no element is selected more than once."
   ]
  },
  {
   "cell_type": "code",
   "execution_count": 6,
   "metadata": {},
   "outputs": [
    {
     "data": {
      "text/plain": [
       "70"
      ]
     },
     "execution_count": 6,
     "metadata": {},
     "output_type": "execute_result"
    }
   ],
   "source": [
    "# Number of ways of selecting four cups from eight.\n",
    "ways = math.comb(no_cups, no_cups_milk_first)\n",
    "\n",
    "# Show.\n",
    "ways"
   ]
  },
  {
   "cell_type": "markdown",
   "metadata": {},
   "source": [
    "Label the eight cups of tea `1`, `2`, `3`, `4`, `5`, `6`, `7`, and `8`.\n",
    "\n",
    "We select four cups to have milk in first.\n",
    "\n",
    "For example, we might select `2`, `4`, `5`, and `8`.\n",
    "\n",
    "Visualize having four placeholders where we place four of the cup labels.\n",
    "\n",
    "How many ways are there to select four cups from eight?\n",
    "\n",
    "Cups: `1 2 3 4 5 6 7 8`\n",
    "\n",
    "Placeholders: `_ _ _ _`\n",
    "\n"
   ]
  },
  {
   "cell_type": "code",
   "execution_count": 7,
   "metadata": {},
   "outputs": [
    {
     "data": {
      "text/plain": [
       "1680"
      ]
     },
     "execution_count": 7,
     "metadata": {},
     "output_type": "execute_result"
    }
   ],
   "source": [
    "# Total number of ways of selecting four cups from eight, keeping them in order.\n",
    "ways_ordered = 8 * 7 * 6 * 5 # first has 8 out of 8 options, second has 7 out of 8, third 6 out of 8 and so on\n",
    "\n",
    "# Show.\n",
    "ways_ordered"
   ]
  },
  {
   "cell_type": "markdown",
   "metadata": {},
   "source": [
    "Note we don't care about order: if cups `2`, `4`, `5`, and `8` are selected in order it is the same result as if `2`, `8`, `4`, and `5` were selected, or any other permutation.\n",
    "\n",
    "`4 8 6 5`\n",
    "\n",
    "`8 6 4 5`\n",
    "\n",
    "`_ _ _ _`"
   ]
  },
  {
   "cell_type": "code",
   "execution_count": 8,
   "metadata": {},
   "outputs": [
    {
     "data": {
      "text/plain": [
       "24"
      ]
     },
     "execution_count": 8,
     "metadata": {},
     "output_type": "execute_result"
    }
   ],
   "source": [
    "# Number of ways of shuffling four cups.\n",
    "no_shuffles = 4 * 3 * 2 * 1 #first has all the 4 cups, the second has the remaining 3, third the remaining 2 etc.\n",
    "\n",
    "# Show.\n",
    "no_shuffles"
   ]
  },
  {
   "cell_type": "code",
   "execution_count": 9,
   "metadata": {},
   "outputs": [
    {
     "data": {
      "text/plain": [
       "70"
      ]
     },
     "execution_count": 9,
     "metadata": {},
     "output_type": "execute_result"
    }
   ],
   "source": [
    "# Number of combinations.\n",
    "no_combs = ways_ordered // no_shuffles #1680/24 - 1680 ways of selecting 4 out of 8 cups devided by the 24 ways of shuffling the selected 4 cups\n",
    "\n",
    "# Show.\n",
    "no_combs"
   ]
  },
  {
   "cell_type": "markdown",
   "metadata": {},
   "source": [
    "## Formula\n",
    "\n",
    "In mathematics, the `math.comb()` function is called the *choose* function.\n",
    "\n",
    "It is written and calculated as\n",
    "\n",
    "$\\binom{n}{k} = \\frac{n!}{k!(n-k)!}$.\n"
   ]
  },
  {
   "cell_type": "code",
   "execution_count": 10,
   "metadata": {},
   "outputs": [],
   "source": [
    "# Number of cups of tea in total.\n",
    "n = 8"
   ]
  },
  {
   "cell_type": "code",
   "execution_count": 11,
   "metadata": {},
   "outputs": [],
   "source": [
    "# Number of cups of tea with milk in first.\n",
    "k = 4"
   ]
  },
  {
   "cell_type": "markdown",
   "metadata": {},
   "source": [
    "## math.factorial\n",
    "\n",
    "https://docs.python.org/3.12/library/math.html#math.factorial\n",
    "\n",
    "Mathematically denoted as `n!`.\n",
    "\n",
    "Multiply all positive integers from `n` down to 1.\n",
    "\n",
    "\n",
    "`n! = n x (n - 1) x (n - 2) x ... x 1`\n",
    "\n",
    "e.g. `5! = 5 x 4 x 3 x 2 x 1 = 120`"
   ]
  },
  {
   "cell_type": "code",
   "execution_count": 12,
   "metadata": {},
   "outputs": [
    {
     "data": {
      "text/plain": [
       "40320"
      ]
     },
     "execution_count": 12,
     "metadata": {},
     "output_type": "execute_result"
    }
   ],
   "source": [
    "# Eight factorial.\n",
    "math.factorial(n)"
   ]
  },
  {
   "cell_type": "code",
   "execution_count": 13,
   "metadata": {},
   "outputs": [
    {
     "data": {
      "text/plain": [
       "24"
      ]
     },
     "execution_count": 13,
     "metadata": {},
     "output_type": "execute_result"
    }
   ],
   "source": [
    "# Four factorial.\n",
    "math.factorial(k)"
   ]
  },
  {
   "cell_type": "code",
   "execution_count": 14,
   "metadata": {},
   "outputs": [
    {
     "data": {
      "text/plain": [
       "24"
      ]
     },
     "execution_count": 14,
     "metadata": {},
     "output_type": "execute_result"
    }
   ],
   "source": [
    "# Four factorial.\n",
    "math.factorial(n - k)"
   ]
  },
  {
   "cell_type": "code",
   "execution_count": 35,
   "metadata": {},
   "outputs": [
    {
     "name": "stdout",
     "output_type": "stream",
     "text": [
      "!n:40320 / !k:24 * (n-k)!:24 = 70\n"
     ]
    }
   ],
   "source": [
    "# No of ways of selecting k objects from n without replacement and without order.\n",
    "\n",
    "math.factorial(n) // (math.factorial(k) * math.factorial(n - k))\n",
    "\n",
    "print(f\"!n:{math.factorial(n)} / !k:{math.factorial(k)} * (n-k)!:{math.factorial(n - k)} = {math.factorial(n) // (math.factorial(k) * math.factorial(n - k))}\")"
   ]
  },
  {
   "cell_type": "markdown",
   "metadata": {},
   "source": [
    "```\n",
    "n! = 8 x 7 x 6 x 5 x 4 x 3 x 2 x 1\n",
    "k! = 4 x 3 x 2 x 1\n",
    "(n - k)! = 4 x 3 x 2 x 1\n",
    "n!/(n - k)! = (8 x 7 x 6 x 5 x 4 x 3 x 2 x 1) / (4 x 3 x 2 x 1) = 8 x 7 x 6 x 5\n",
    "```"
   ]
  },
  {
   "cell_type": "markdown",
   "metadata": {},
   "source": [
    "#### Aside"
   ]
  },
  {
   "cell_type": "code",
   "execution_count": 16,
   "metadata": {},
   "outputs": [
    {
     "data": {
      "text/plain": [
       "80658175170943878571660636856403766975289505440883277824000000000000"
      ]
     },
     "execution_count": 16,
     "metadata": {},
     "output_type": "execute_result"
    }
   ],
   "source": [
    "# How many ways are there to shuffle a deck of 52 cards?\n",
    "math.factorial(52)"
   ]
  },
  {
   "cell_type": "markdown",
   "metadata": {},
   "source": [
    "## Ordering of Results\n",
    "\n",
    "https://docs.python.org/3/library/itertools.html#itertools.combinations"
   ]
  },
  {
   "cell_type": "code",
   "execution_count": 17,
   "metadata": {},
   "outputs": [
    {
     "data": {
      "text/plain": [
       "[0, 1, 2, 3, 4, 5, 6, 7]"
      ]
     },
     "execution_count": 17,
     "metadata": {},
     "output_type": "execute_result"
    }
   ],
   "source": [
    "# The cup labels.\n",
    "labels = list(range(no_cups))\n",
    "\n",
    "# Show.\n",
    "labels"
   ]
  },
  {
   "cell_type": "code",
   "execution_count": 18,
   "metadata": {},
   "outputs": [
    {
     "data": {
      "text/plain": [
       "[(0, 1, 2, 3),\n",
       " (0, 1, 2, 4),\n",
       " (0, 1, 2, 5),\n",
       " (0, 1, 2, 6),\n",
       " (0, 1, 2, 7),\n",
       " (0, 1, 3, 4),\n",
       " (0, 1, 3, 5),\n",
       " (0, 1, 3, 6),\n",
       " (0, 1, 3, 7),\n",
       " (0, 1, 4, 5),\n",
       " (0, 1, 4, 6),\n",
       " (0, 1, 4, 7),\n",
       " (0, 1, 5, 6),\n",
       " (0, 1, 5, 7),\n",
       " (0, 1, 6, 7),\n",
       " (0, 2, 3, 4),\n",
       " (0, 2, 3, 5),\n",
       " (0, 2, 3, 6),\n",
       " (0, 2, 3, 7),\n",
       " (0, 2, 4, 5),\n",
       " (0, 2, 4, 6),\n",
       " (0, 2, 4, 7),\n",
       " (0, 2, 5, 6),\n",
       " (0, 2, 5, 7),\n",
       " (0, 2, 6, 7),\n",
       " (0, 3, 4, 5),\n",
       " (0, 3, 4, 6),\n",
       " (0, 3, 4, 7),\n",
       " (0, 3, 5, 6),\n",
       " (0, 3, 5, 7),\n",
       " (0, 3, 6, 7),\n",
       " (0, 4, 5, 6),\n",
       " (0, 4, 5, 7),\n",
       " (0, 4, 6, 7),\n",
       " (0, 5, 6, 7),\n",
       " (1, 2, 3, 4),\n",
       " (1, 2, 3, 5),\n",
       " (1, 2, 3, 6),\n",
       " (1, 2, 3, 7),\n",
       " (1, 2, 4, 5),\n",
       " (1, 2, 4, 6),\n",
       " (1, 2, 4, 7),\n",
       " (1, 2, 5, 6),\n",
       " (1, 2, 5, 7),\n",
       " (1, 2, 6, 7),\n",
       " (1, 3, 4, 5),\n",
       " (1, 3, 4, 6),\n",
       " (1, 3, 4, 7),\n",
       " (1, 3, 5, 6),\n",
       " (1, 3, 5, 7),\n",
       " (1, 3, 6, 7),\n",
       " (1, 4, 5, 6),\n",
       " (1, 4, 5, 7),\n",
       " (1, 4, 6, 7),\n",
       " (1, 5, 6, 7),\n",
       " (2, 3, 4, 5),\n",
       " (2, 3, 4, 6),\n",
       " (2, 3, 4, 7),\n",
       " (2, 3, 5, 6),\n",
       " (2, 3, 5, 7),\n",
       " (2, 3, 6, 7),\n",
       " (2, 4, 5, 6),\n",
       " (2, 4, 5, 7),\n",
       " (2, 4, 6, 7),\n",
       " (2, 5, 6, 7),\n",
       " (3, 4, 5, 6),\n",
       " (3, 4, 5, 7),\n",
       " (3, 4, 6, 7),\n",
       " (3, 5, 6, 7),\n",
       " (4, 5, 6, 7)]"
      ]
     },
     "execution_count": 18,
     "metadata": {},
     "output_type": "execute_result"
    }
   ],
   "source": [
    "# Show the different ways of selecting no_cups_milk_first out of no_cups cups of tea.\n",
    "combs = list(itertools.combinations(labels, no_cups_milk_first))\n",
    "\n",
    "# Show.\n",
    "combs"
   ]
  },
  {
   "cell_type": "code",
   "execution_count": 19,
   "metadata": {},
   "outputs": [
    {
     "data": {
      "text/plain": [
       "70"
      ]
     },
     "execution_count": 19,
     "metadata": {},
     "output_type": "execute_result"
    }
   ],
   "source": [
    "# Number of combinations.\n",
    "len(combs)"
   ]
  },
  {
   "cell_type": "code",
   "execution_count": 20,
   "metadata": {},
   "outputs": [
    {
     "data": {
      "text/plain": [
       "[0, 2, 5, 6]"
      ]
     },
     "execution_count": 20,
     "metadata": {},
     "output_type": "execute_result"
    }
   ],
   "source": [
    "# Select four cups at random to put milk in first.\n",
    "# https://docs.python.org/3/library/random.html#random.sample\n",
    "labels_milk = random.sample(labels, 4)\n",
    "\n",
    "# Sort, inplace.\n",
    "labels_milk.sort()\n",
    "\n",
    "# Show.\n",
    "labels_milk"
   ]
  },
  {
   "cell_type": "code",
   "execution_count": 21,
   "metadata": {},
   "outputs": [
    {
     "data": {
      "text/plain": [
       "{0, 2, 5, 6}"
      ]
     },
     "execution_count": 21,
     "metadata": {},
     "output_type": "execute_result"
    }
   ],
   "source": [
    "# Turn labels_milk into a set.\n",
    "# Uses: https://docs.python.org/3/tutorial/datastructures.html#sets\n",
    "set(labels_milk)"
   ]
  },
  {
   "cell_type": "code",
   "execution_count": 22,
   "metadata": {},
   "outputs": [
    {
     "name": "stdout",
     "output_type": "stream",
     "text": [
      "(0, 1, 2, 3) {0, 2} 2\n",
      "(0, 1, 2, 4) {0, 2} 2\n",
      "(0, 1, 2, 5) {0, 2, 5} 3\n",
      "(0, 1, 2, 6) {0, 2, 6} 3\n",
      "(0, 1, 2, 7) {0, 2} 2\n",
      "(0, 1, 3, 4) {0} 1\n",
      "(0, 1, 3, 5) {0, 5} 2\n",
      "(0, 1, 3, 6) {0, 6} 2\n",
      "(0, 1, 3, 7) {0} 1\n",
      "(0, 1, 4, 5) {0, 5} 2\n",
      "(0, 1, 4, 6) {0, 6} 2\n",
      "(0, 1, 4, 7) {0} 1\n",
      "(0, 1, 5, 6) {0, 5, 6} 3\n",
      "(0, 1, 5, 7) {0, 5} 2\n",
      "(0, 1, 6, 7) {0, 6} 2\n",
      "(0, 2, 3, 4) {0, 2} 2\n",
      "(0, 2, 3, 5) {0, 2, 5} 3\n",
      "(0, 2, 3, 6) {0, 2, 6} 3\n",
      "(0, 2, 3, 7) {0, 2} 2\n",
      "(0, 2, 4, 5) {0, 2, 5} 3\n",
      "(0, 2, 4, 6) {0, 2, 6} 3\n",
      "(0, 2, 4, 7) {0, 2} 2\n",
      "(0, 2, 5, 6) {0, 2, 5, 6} 4\n",
      "(0, 2, 5, 7) {0, 2, 5} 3\n",
      "(0, 2, 6, 7) {0, 2, 6} 3\n",
      "(0, 3, 4, 5) {0, 5} 2\n",
      "(0, 3, 4, 6) {0, 6} 2\n",
      "(0, 3, 4, 7) {0} 1\n",
      "(0, 3, 5, 6) {0, 5, 6} 3\n",
      "(0, 3, 5, 7) {0, 5} 2\n",
      "(0, 3, 6, 7) {0, 6} 2\n",
      "(0, 4, 5, 6) {0, 5, 6} 3\n",
      "(0, 4, 5, 7) {0, 5} 2\n",
      "(0, 4, 6, 7) {0, 6} 2\n",
      "(0, 5, 6, 7) {0, 5, 6} 3\n",
      "(1, 2, 3, 4) {2} 1\n",
      "(1, 2, 3, 5) {2, 5} 2\n",
      "(1, 2, 3, 6) {2, 6} 2\n",
      "(1, 2, 3, 7) {2} 1\n",
      "(1, 2, 4, 5) {2, 5} 2\n",
      "(1, 2, 4, 6) {2, 6} 2\n",
      "(1, 2, 4, 7) {2} 1\n",
      "(1, 2, 5, 6) {2, 5, 6} 3\n",
      "(1, 2, 5, 7) {2, 5} 2\n",
      "(1, 2, 6, 7) {2, 6} 2\n",
      "(1, 3, 4, 5) {5} 1\n",
      "(1, 3, 4, 6) {6} 1\n",
      "(1, 3, 4, 7) set() 0\n",
      "(1, 3, 5, 6) {5, 6} 2\n",
      "(1, 3, 5, 7) {5} 1\n",
      "(1, 3, 6, 7) {6} 1\n",
      "(1, 4, 5, 6) {5, 6} 2\n",
      "(1, 4, 5, 7) {5} 1\n",
      "(1, 4, 6, 7) {6} 1\n",
      "(1, 5, 6, 7) {5, 6} 2\n",
      "(2, 3, 4, 5) {2, 5} 2\n",
      "(2, 3, 4, 6) {2, 6} 2\n",
      "(2, 3, 4, 7) {2} 1\n",
      "(2, 3, 5, 6) {2, 5, 6} 3\n",
      "(2, 3, 5, 7) {2, 5} 2\n",
      "(2, 3, 6, 7) {2, 6} 2\n",
      "(2, 4, 5, 6) {2, 5, 6} 3\n",
      "(2, 4, 5, 7) {2, 5} 2\n",
      "(2, 4, 6, 7) {2, 6} 2\n",
      "(2, 5, 6, 7) {2, 5, 6} 3\n",
      "(3, 4, 5, 6) {5, 6} 2\n",
      "(3, 4, 5, 7) {5} 1\n",
      "(3, 4, 6, 7) {6} 1\n",
      "(3, 5, 6, 7) {5, 6} 2\n",
      "(4, 5, 6, 7) {5, 6} 2\n"
     ]
    }
   ],
   "source": [
    "# Calculate the overlap between each element of combs and labels_milk.\n",
    "\n",
    "no_overlaps = []\n",
    "\n",
    "for comb in combs:\n",
    "  # Turn comb into a set.\n",
    "  s1 = set(comb)\n",
    "  # Turn labels_milk into a set.\n",
    "  s2 = set(labels_milk)\n",
    "  # Figure out where they overlap.\n",
    "  overlap = s1.intersection(s2)\n",
    "  # Show the combination and the overlap.\n",
    "  print(comb, overlap, len(overlap))\n",
    "  # Append overlap to no_overlaps.\n",
    "  no_overlaps.append(len(overlap))"
   ]
  },
  {
   "cell_type": "code",
   "execution_count": 23,
   "metadata": {},
   "outputs": [
    {
     "name": "stdout",
     "output_type": "stream",
     "text": [
      "[2, 2, 3, 3, 2, 1, 2, 2, 1, 2, 2, 1, 3, 2, 2, 2, 3, 3, 2, 3, 3, 2, 4, 3, 3, 2, 2, 1, 3, 2, 2, 3, 2, 2, 3, 1, 2, 2, 1, 2, 2, 1, 3, 2, 2, 1, 1, 0, 2, 1, 1, 2, 1, 1, 2, 2, 2, 1, 3, 2, 2, 3, 2, 2, 3, 2, 1, 1, 2, 2]\n"
     ]
    }
   ],
   "source": [
    "# Show the overlaps.\n",
    "print(no_overlaps)"
   ]
  },
  {
   "cell_type": "code",
   "execution_count": 24,
   "metadata": {},
   "outputs": [
    {
     "data": {
      "text/plain": [
       "(array([0, 1, 2, 3, 4]), array([ 1, 16, 36, 16,  1], dtype=int64))"
      ]
     },
     "execution_count": 24,
     "metadata": {},
     "output_type": "execute_result"
    }
   ],
   "source": [
    "# Count the number of times each overlap occurs.\n",
    "counts = np.unique(no_overlaps, return_counts=True)\n",
    "\n",
    "# Show.\n",
    "counts"
   ]
  },
  {
   "cell_type": "code",
   "execution_count": 25,
   "metadata": {},
   "outputs": [
    {
     "data": {
      "image/png": "[encoded data removed]",
      "text/plain": [
       "<Figure size 600x400 with 1 Axes>"
      ]
     },
     "metadata": {},
     "output_type": "display_data"
    }
   ],
   "source": [
    "# Create a figure.\n",
    "fig, ax = plt.subplots(figsize=(6, 4))\n",
    "\n",
    "# Bar chart.\n",
    "ax.bar(counts[0], counts[1]);"
   ]
  },
  {
   "cell_type": "markdown",
   "metadata": {},
   "source": [
    "## The Null Hypothesis"
   ]
  },
  {
   "cell_type": "markdown",
   "metadata": {},
   "source": [
    "- The lady has no special power to tell the difference between cups of tea with milk in first and cups of tea with tea in first.\n",
    "\n",
    "- The lady is selecting the four cups from the eight cups at random."
   ]
  },
  {
   "cell_type": "markdown",
   "metadata": {},
   "source": [
    "## Alternative Hypothesis\n",
    "\n",
    "- The lady can tell the difference. "
   ]
  },
  {
   "cell_type": "markdown",
   "metadata": {},
   "source": [
    "### Evidence\n",
    "\n",
    "Fisher: if the lady is just picking four cups at random, then it is unlikely she will pick the correct four. The probability is one in seventy. It is so unlikely, that I will agree that something non-random is happening when she is selecting the cups of tea. "
   ]
  },
  {
   "cell_type": "code",
   "execution_count": 26,
   "metadata": {},
   "outputs": [
    {
     "data": {
      "text/plain": [
       "0.014285714285714285"
      ]
     },
     "execution_count": 26,
     "metadata": {},
     "output_type": "execute_result"
    }
   ],
   "source": [
    "# The probability that she (randomly) selects the four correct cups.\n",
    "1 / 70"
   ]
  },
  {
   "cell_type": "code",
   "execution_count": 27,
   "metadata": {},
   "outputs": [
    {
     "data": {
      "text/plain": [
       "0.24285714285714285"
      ]
     },
     "execution_count": 27,
     "metadata": {},
     "output_type": "execute_result"
    }
   ],
   "source": [
    "# The probability that she (randomly) selects at least three correct cups.\n",
    "(16 + 1) / 70"
   ]
  },
  {
   "cell_type": "markdown",
   "metadata": {},
   "source": [
    "## Type I Errors, Type II Errors, and Power"
   ]
  },
  {
   "cell_type": "markdown",
   "metadata": {},
   "source": [
    " - Type I and Type II errors: https://en.wikipedia.org/wiki/Type_I_and_type_II_errors#Table_of_error_types\n",
    " - Power: https://en.wikipedia.org/wiki/Power_(statistics)#Description"
   ]
  },
  {
   "cell_type": "markdown",
   "metadata": {},
   "source": [
    "##### Note\n",
    "This notebook was created with the help of [GitHub Copilot](https://github.com/features/copilot)."
   ]
  },
  {
   "cell_type": "markdown",
   "metadata": {},
   "source": [
    "## End"
   ]
  }
 ],
 "metadata": {
  "kernelspec": {
   "display_name": "base",
   "language": "python",
   "name": "python3"
  },
  "language_info": {
   "codemirror_mode": {
    "name": "ipython",
    "version": 3
   },
   "file_extension": ".py",
   "mimetype": "text/x-python",
   "name": "python",
   "nbconvert_exporter": "python",
   "pygments_lexer": "ipython3",
   "version": "3.9.18"
  }
 },
 "nbformat": 4,
 "nbformat_minor": 2
}
